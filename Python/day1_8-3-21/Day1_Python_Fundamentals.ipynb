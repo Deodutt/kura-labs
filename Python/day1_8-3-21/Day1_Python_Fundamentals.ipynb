{
  "nbformat": 4,
  "nbformat_minor": 2,
  "metadata": {
    "colab": {
      "name": "Python_Fundamentals_Day1_Kura.ipynb",
      "provenance": []
    },
    "kernelspec": {
      "name": "python3",
      "display_name": "Python 3.9.2 64-bit"
    },
    "language_info": {
      "name": "python",
      "version": "3.9.2",
      "mimetype": "text/x-python",
      "codemirror_mode": {
        "name": "ipython",
        "version": 3
      },
      "pygments_lexer": "ipython3",
      "nbconvert_exporter": "python",
      "file_extension": ".py"
    },
    "interpreter": {
      "hash": "a52f251b682d8835a3d48e5528dd8a9e5772f2df652d4d86638ea6503f91cfa6"
    }
  },
  "cells": [
    {
      "cell_type": "code",
      "execution_count": 2,
      "source": [
        "[ ]"
      ],
      "outputs": [
        {
          "output_type": "execute_result",
          "data": {
            "text/plain": [
              "[]"
            ]
          },
          "metadata": {},
          "execution_count": 2
        }
      ],
      "metadata": {
        "id": "5RHv08J0faas"
      }
    },
    {
      "cell_type": "markdown",
      "source": [
        "Hello World Example"
      ],
      "metadata": {
        "id": "t6YZRpqzfyWz"
      }
    },
    {
      "cell_type": "code",
      "execution_count": 1,
      "source": [
        "print(\"Hello World\")"
      ],
      "outputs": [
        {
          "output_type": "stream",
          "name": "stdout",
          "text": [
            "Hello World\n"
          ]
        }
      ],
      "metadata": {
        "colab": {
          "base_uri": "https://localhost:8080/"
        },
        "id": "EO1T_V1IggEM",
        "outputId": "f344da78-744e-4158-c251-8141e529bf24"
      }
    },
    {
      "cell_type": "code",
      "execution_count": 3,
      "source": [
        "print('Hello World')"
      ],
      "outputs": [
        {
          "output_type": "stream",
          "name": "stdout",
          "text": [
            "Hello World\n"
          ]
        }
      ],
      "metadata": {
        "colab": {
          "base_uri": "https://localhost:8080/"
        },
        "id": "Kbjcp3r6jo6F",
        "outputId": "3da99f2b-46d7-47f0-f812-879dae9c52f2"
      }
    },
    {
      "cell_type": "code",
      "execution_count": 4,
      "source": [
        "print(1+2)"
      ],
      "outputs": [
        {
          "output_type": "stream",
          "name": "stdout",
          "text": [
            "3\n"
          ]
        }
      ],
      "metadata": {
        "colab": {
          "base_uri": "https://localhost:8080/"
        },
        "id": "9E9nn_1HkBSb",
        "outputId": "d8c8e0a4-b95a-41b1-f08f-dfd569bce842"
      }
    },
    {
      "cell_type": "code",
      "execution_count": 5,
      "source": [
        "print(2**2)"
      ],
      "outputs": [
        {
          "output_type": "stream",
          "name": "stdout",
          "text": [
            "4\n"
          ]
        }
      ],
      "metadata": {
        "colab": {
          "base_uri": "https://localhost:8080/"
        },
        "id": "T-JduyzBkIBh",
        "outputId": "1715ce77-6fdb-48c9-c2a1-cd7bcd8edf3b"
      }
    },
    {
      "cell_type": "code",
      "execution_count": 6,
      "source": [
        "x = 5"
      ],
      "outputs": [],
      "metadata": {
        "id": "8n52VcWMkqXI"
      }
    },
    {
      "cell_type": "code",
      "execution_count": 9,
      "source": [
        "x = 5\r\n",
        "y = 7\r\n",
        "z = x+y\r\n",
        "\r\n",
        "\r\n",
        "print(f\"X + 7 is {z}.\")"
      ],
      "outputs": [
        {
          "output_type": "stream",
          "name": "stdout",
          "text": [
            "X + 7 is 12.\n"
          ]
        }
      ],
      "metadata": {
        "colab": {
          "base_uri": "https://localhost:8080/"
        },
        "id": "9dpdG3RFk-Wz",
        "outputId": "63b82c95-f6a1-4f79-92f1-7a90b001f175"
      }
    },
    {
      "cell_type": "code",
      "execution_count": 10,
      "source": [
        "z + 1\r\n",
        "z+=1"
      ],
      "outputs": [],
      "metadata": {
        "id": "5izSV_3OnXZj"
      }
    },
    {
      "cell_type": "code",
      "execution_count": 11,
      "source": [
        "type(\"This is a string\")"
      ],
      "outputs": [
        {
          "output_type": "execute_result",
          "data": {
            "text/plain": [
              "str"
            ]
          },
          "metadata": {},
          "execution_count": 11
        }
      ],
      "metadata": {
        "colab": {
          "base_uri": "https://localhost:8080/"
        },
        "id": "FbaBCKv3nmnd",
        "outputId": "c5b2db8e-4beb-4b0e-f110-0deef2ec2125"
      }
    },
    {
      "cell_type": "code",
      "execution_count": 12,
      "source": [
        "name = \"Ricardo\"\r\n",
        "type(name)"
      ],
      "outputs": [
        {
          "output_type": "execute_result",
          "data": {
            "text/plain": [
              "str"
            ]
          },
          "metadata": {},
          "execution_count": 12
        }
      ],
      "metadata": {
        "id": "xha-nDNOnxpk"
      }
    },
    {
      "cell_type": "code",
      "execution_count": 13,
      "source": [
        "is_studying = True\r\n",
        "print(is_studying)"
      ],
      "outputs": [
        {
          "output_type": "stream",
          "name": "stdout",
          "text": [
            "True\n"
          ]
        }
      ],
      "metadata": {
        "colab": {
          "base_uri": "https://localhost:8080/"
        },
        "id": "-mPWU5JCn7ty",
        "outputId": "33715c72-7e2e-4d91-beb7-cdfda22ac8ad"
      }
    },
    {
      "cell_type": "code",
      "execution_count": 16,
      "source": [
        "this_number = \"1\"\r\n",
        "this_other_number = 1\r\n",
        "\r\n",
        "print (type(this_number))"
      ],
      "outputs": [
        {
          "output_type": "stream",
          "name": "stdout",
          "text": [
            "<class 'str'>\n"
          ]
        }
      ],
      "metadata": {
        "colab": {
          "base_uri": "https://localhost:8080/"
        },
        "id": "u7vntNCNo9PP",
        "outputId": "a2c7e79e-77ff-4527-b711-4489512072c8"
      }
    },
    {
      "cell_type": "code",
      "execution_count": 14,
      "source": [
        "x = 7\r\n",
        "x == True"
      ],
      "outputs": [
        {
          "output_type": "execute_result",
          "data": {
            "text/plain": [
              "False"
            ]
          },
          "metadata": {},
          "execution_count": 14
        }
      ],
      "metadata": {
        "colab": {
          "base_uri": "https://localhost:8080/"
        },
        "id": "Qpz0FnlCp7PM",
        "outputId": "82e6b785-2428-41a3-ad7d-ffacb4763417"
      }
    },
    {
      "cell_type": "code",
      "execution_count": 15,
      "source": [
        "names =  [\"Ricardo\", \"Sai\"]\r\n",
        "print(names[1])"
      ],
      "outputs": [
        {
          "output_type": "stream",
          "name": "stdout",
          "text": [
            "Sai\n"
          ]
        }
      ],
      "metadata": {
        "colab": {
          "base_uri": "https://localhost:8080/"
        },
        "id": "d29l5naJrl8t",
        "outputId": "12db8d5c-be3c-47b3-878a-139bc1c083b1"
      }
    }
  ]
}