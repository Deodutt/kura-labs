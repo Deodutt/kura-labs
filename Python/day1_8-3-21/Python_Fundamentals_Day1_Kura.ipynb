{
  "nbformat": 4,
  "nbformat_minor": 0,
  "metadata": {
    "colab": {
      "name": "Python_Fundamentals_Day1_Kura.ipynb",
      "provenance": []
    },
    "kernelspec": {
      "name": "python3",
      "display_name": "Python 3"
    },
    "language_info": {
      "name": "python"
    }
  },
  "cells": [
    {
      "cell_type": "code",
      "metadata": {
        "id": "5RHv08J0faas"
      },
      "source": [
        "[ ]"
      ],
      "execution_count": null,
      "outputs": []
    },
    {
      "cell_type": "markdown",
      "metadata": {
        "id": "t6YZRpqzfyWz"
      },
      "source": [
        "Hello World Example"
      ]
    },
    {
      "cell_type": "code",
      "metadata": {
        "colab": {
          "base_uri": "https://localhost:8080/"
        },
        "id": "EO1T_V1IggEM",
        "outputId": "f344da78-744e-4158-c251-8141e529bf24"
      },
      "source": [
        "print(\"Hello World\")"
      ],
      "execution_count": null,
      "outputs": [
        {
          "output_type": "stream",
          "text": [
            "Hello World\n"
          ],
          "name": "stdout"
        }
      ]
    },
    {
      "cell_type": "code",
      "metadata": {
        "colab": {
          "base_uri": "https://localhost:8080/"
        },
        "id": "Kbjcp3r6jo6F",
        "outputId": "3da99f2b-46d7-47f0-f812-879dae9c52f2"
      },
      "source": [
        "print('Hello World')"
      ],
      "execution_count": null,
      "outputs": [
        {
          "output_type": "stream",
          "text": [
            "Hello World\n"
          ],
          "name": "stdout"
        }
      ]
    },
    {
      "cell_type": "code",
      "metadata": {
        "colab": {
          "base_uri": "https://localhost:8080/"
        },
        "id": "9E9nn_1HkBSb",
        "outputId": "d8c8e0a4-b95a-41b1-f08f-dfd569bce842"
      },
      "source": [
        "print(1+2)"
      ],
      "execution_count": null,
      "outputs": [
        {
          "output_type": "stream",
          "text": [
            "3\n"
          ],
          "name": "stdout"
        }
      ]
    },
    {
      "cell_type": "code",
      "metadata": {
        "colab": {
          "base_uri": "https://localhost:8080/"
        },
        "id": "T-JduyzBkIBh",
        "outputId": "1715ce77-6fdb-48c9-c2a1-cd7bcd8edf3b"
      },
      "source": [
        "print(2**2)"
      ],
      "execution_count": null,
      "outputs": [
        {
          "output_type": "stream",
          "text": [
            "4\n"
          ],
          "name": "stdout"
        }
      ]
    },
    {
      "cell_type": "code",
      "metadata": {
        "id": "8n52VcWMkqXI"
      },
      "source": [
        "x = 5"
      ],
      "execution_count": null,
      "outputs": []
    },
    {
      "cell_type": "code",
      "metadata": {
        "colab": {
          "base_uri": "https://localhost:8080/"
        },
        "id": "9dpdG3RFk-Wz",
        "outputId": "63b82c95-f6a1-4f79-92f1-7a90b001f175"
      },
      "source": [
        "x = 5\n",
        "y = 7\n",
        "z = x+y\n",
        "\n",
        "\n",
        "print(f\"X + 7 is {z}.\")"
      ],
      "execution_count": null,
      "outputs": [
        {
          "output_type": "stream",
          "text": [
            "X + 7 is 12.\n"
          ],
          "name": "stdout"
        }
      ]
    },
    {
      "cell_type": "code",
      "metadata": {
        "id": "5izSV_3OnXZj"
      },
      "source": [
        "z + 1\n",
        "z+=1"
      ],
      "execution_count": null,
      "outputs": []
    },
    {
      "cell_type": "code",
      "metadata": {
        "colab": {
          "base_uri": "https://localhost:8080/"
        },
        "id": "FbaBCKv3nmnd",
        "outputId": "c5b2db8e-4beb-4b0e-f110-0deef2ec2125"
      },
      "source": [
        "type(\"This is a string\")"
      ],
      "execution_count": null,
      "outputs": [
        {
          "output_type": "execute_result",
          "data": {
            "text/plain": [
              "str"
            ]
          },
          "metadata": {
            "tags": []
          },
          "execution_count": 24
        }
      ]
    },
    {
      "cell_type": "code",
      "metadata": {
        "id": "xha-nDNOnxpk"
      },
      "source": [
        "name = \"Ricardo\"\n",
        "type(name)"
      ],
      "execution_count": null,
      "outputs": []
    },
    {
      "cell_type": "code",
      "metadata": {
        "colab": {
          "base_uri": "https://localhost:8080/"
        },
        "id": "-mPWU5JCn7ty",
        "outputId": "33715c72-7e2e-4d91-beb7-cdfda22ac8ad"
      },
      "source": [
        "is_studying = True\n",
        "print(is_studying)"
      ],
      "execution_count": null,
      "outputs": [
        {
          "output_type": "stream",
          "text": [
            "True\n"
          ],
          "name": "stdout"
        }
      ]
    },
    {
      "cell_type": "code",
      "metadata": {
        "colab": {
          "base_uri": "https://localhost:8080/"
        },
        "id": "u7vntNCNo9PP",
        "outputId": "a2c7e79e-77ff-4527-b711-4489512072c8"
      },
      "source": [
        "this_number = \"1\"\n",
        "this_other_number = 1\n",
        "\n",
        "print (type(this_number))"
      ],
      "execution_count": null,
      "outputs": [
        {
          "output_type": "stream",
          "text": [
            "<class 'str'>\n"
          ],
          "name": "stdout"
        }
      ]
    },
    {
      "cell_type": "code",
      "metadata": {
        "colab": {
          "base_uri": "https://localhost:8080/"
        },
        "id": "Qpz0FnlCp7PM",
        "outputId": "82e6b785-2428-41a3-ad7d-ffacb4763417"
      },
      "source": [
        "x = 7\n",
        "x == True"
      ],
      "execution_count": null,
      "outputs": [
        {
          "output_type": "execute_result",
          "data": {
            "text/plain": [
              "False"
            ]
          },
          "metadata": {
            "tags": []
          },
          "execution_count": 36
        }
      ]
    },
    {
      "cell_type": "code",
      "metadata": {
        "colab": {
          "base_uri": "https://localhost:8080/"
        },
        "id": "d29l5naJrl8t",
        "outputId": "12db8d5c-be3c-47b3-878a-139bc1c083b1"
      },
      "source": [
        "names =  [\"Ricardo\", \"Sai\"]\n",
        "print(names[1])"
      ],
      "execution_count": null,
      "outputs": [
        {
          "output_type": "stream",
          "text": [
            "Sai\n"
          ],
          "name": "stdout"
        }
      ]
    }
  ]
}