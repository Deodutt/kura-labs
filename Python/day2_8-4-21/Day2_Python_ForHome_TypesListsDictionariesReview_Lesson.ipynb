{
  "nbformat": 4,
  "nbformat_minor": 2,
  "metadata": {
    "celltoolbar": "Slideshow",
    "kernelspec": {
      "name": "python3",
      "display_name": "Python 3.9.2 64-bit"
    },
    "language_info": {
      "name": "python",
      "version": "3.9.2",
      "mimetype": "text/x-python",
      "codemirror_mode": {
        "name": "ipython",
        "version": 3
      },
      "pygments_lexer": "ipython3",
      "nbconvert_exporter": "python",
      "file_extension": ".py"
    },
    "colab": {
      "name": "Day_2_ForHome_TypesListsDictionariesReview_Lesson.ipynb",
      "provenance": [],
      "collapsed_sections": []
    },
    "interpreter": {
      "hash": "a52f251b682d8835a3d48e5528dd8a9e5772f2df652d4d86638ea6503f91cfa6"
    }
  },
  "cells": [
    {
      "cell_type": "markdown",
      "source": [
        "<img src=\"https://i.imgur.com/X9R3e67.png\" style=\"float: left; margin: 20px; height: 55px\">"
      ],
      "metadata": {
        "id": "d8JVBZ_mWr5b"
      }
    },
    {
      "cell_type": "markdown",
      "source": [
        "## Review of Python types, lists, and dictionaries\n",
        "\n",
        "\n",
        "\n",
        "---\n"
      ],
      "metadata": {
        "id": "i4Bwh8ioDlsd"
      }
    },
    {
      "cell_type": "code",
      "execution_count": 17,
      "source": [
        "# Enter some student names here:\r\n",
        "student_names = ['alex', 'andrew', 'bishajit', 'brittney','cleon','craig','darren','denzel','dilobar','franklin','hector','ian','ibrahima','isaac']"
      ],
      "outputs": [],
      "metadata": {
        "collapsed": true,
        "id": "P3xG43BIDlsi"
      }
    },
    {
      "cell_type": "markdown",
      "source": [
        "---\n",
        "\n",
        "### 1. What are the types of the following variables?"
      ],
      "metadata": {
        "id": "GD1HGSYCDlsj"
      }
    },
    {
      "cell_type": "code",
      "execution_count": 18,
      "source": [
        "a = 1\r\n",
        "b = 2.6\r\n",
        "c = [1,2,3,5,6]\r\n",
        "d = {'daniel':'adeyanju', 'will':'campbell'}\r\n",
        "e = ('one', 'two', 'three')\r\n",
        "f = {1:{'key':'value'}, 2:{'key2':'value2'}}\r\n",
        "g = True\r\n",
        "h = False\r\n",
        "i = 'integer'"
      ],
      "outputs": [],
      "metadata": {
        "collapsed": true,
        "id": "PMdN5QYrDlsk"
      }
    },
    {
      "cell_type": "code",
      "execution_count": 19,
      "source": [
        "# Type datatype for each variable below\r\n",
        "\r\n",
        "# a = Integer\r\n",
        "# b = Float\r\n",
        "# c = List\r\n",
        "# d = Dictionary \r\n",
        "# e = Tuple\r\n",
        "# f = Dictionary key value pair\r\n",
        "# g = Boolean\r\n",
        "# h = Boolean\r\n",
        "# i = String"
      ],
      "outputs": [],
      "metadata": {
        "collapsed": true,
        "id": "T0K59aozDlsk"
      }
    },
    {
      "cell_type": "markdown",
      "source": [
        "---\r\n",
        "\r\n",
        "### 2. What is the difference between a \"mutable\" and \"immutable\" object?\r\n"
      ],
      "metadata": {
        "id": "iBHsjD4YDlsl"
      }
    },
    {
      "cell_type": "code",
      "execution_count": 20,
      "source": [
        "# A: Mutable objects can change their contents. Immutable objects can't change their contents.\r\n",
        "# So basically mutable objects, you can go in and change particular items.\r\n",
        "\r\n",
        "# Mutable data types\r\n",
        "# List\r\n",
        "# Dictionaries\r\n",
        "# user-defined clases\r\n",
        "\r\n",
        "# Immutable data types \r\n",
        "# int\r\n",
        "# float\r\n",
        "# decimal\r\n",
        "# bool\r\n",
        "# string \r\n",
        "# tuple \r\n",
        "# range \r\n",
        "\r\n"
      ],
      "outputs": [],
      "metadata": {
        "collapsed": true,
        "id": "RAxH_bLBDlsl"
      }
    },
    {
      "cell_type": "markdown",
      "source": [
        "---\n",
        "\n",
        "### 3. Print the `student_names` list."
      ],
      "metadata": {
        "id": "v5m_e81gDlsm"
      }
    },
    {
      "cell_type": "code",
      "execution_count": 21,
      "source": [
        "student_names = ['alex', 'andrew', 'bishajit', 'brittney','cleon','craig','darren','denzel','dilobar','franklin','hector','ian','ibrahima','isaac']\r\n",
        "\r\n",
        "print(student_names)\r\n"
      ],
      "outputs": [
        {
          "output_type": "stream",
          "name": "stdout",
          "text": [
            "['alex', 'andrew', 'bishajit', 'brittney', 'cleon', 'craig', 'darren', 'denzel', 'dilobar', 'franklin', 'hector', 'ian', 'ibrahima', 'isaac']\n"
          ]
        }
      ],
      "metadata": {
        "id": "7cl4XhY8Dlsn"
      }
    },
    {
      "cell_type": "markdown",
      "source": [
        "---\n",
        "\n",
        "### 4. Print the names of the first and last students in the list."
      ],
      "metadata": {
        "id": "ConOeN6IDlsp"
      }
    },
    {
      "cell_type": "code",
      "execution_count": 22,
      "source": [
        "# A:\r\n",
        "student_names = ['alex', 'andrew', 'bishajit', 'brittney','cleon','craig','darren','denzel','dilobar','franklin','hector','ian','ibrahima','isaac']\r\n",
        "student_names_length = len(student_names)\r\n",
        "print(f\"First:{student_names[0]} and last:{student_names[(student_names_length - 1 )]}\")\r\n"
      ],
      "outputs": [
        {
          "output_type": "stream",
          "name": "stdout",
          "text": [
            "First:alex and last:isaac\n"
          ]
        }
      ],
      "metadata": {
        "id": "vcjcY28dDlsq"
      }
    },
    {
      "cell_type": "markdown",
      "source": [
        "---\n",
        "\n",
        "### 5. Print the first five names in the student list."
      ],
      "metadata": {
        "id": "5gkYZs5VDlsr"
      }
    },
    {
      "cell_type": "code",
      "execution_count": 43,
      "source": [
        "# A:\r\n",
        "student_names = ['alex', 'andrew', 'bishajit', 'brittney','cleon','craig','darren','denzel','dilobar','franklin','hector','ian','ibrahima','isaac']\r\n",
        "\r\n",
        "print(f\"First:{student_names[:5]}\")\r\n",
        "\r\n",
        "for x in range(5):\r\n",
        "    print(f\"{x + 1}: {student_names[x]}\")\r\n"
      ],
      "outputs": [
        {
          "output_type": "stream",
          "name": "stdout",
          "text": [
            "First:['alex', 'andrew', 'bishajit', 'brittney', 'cleon']\n",
            "1: alex\n",
            "2: andrew\n",
            "3: bishajit\n",
            "4: brittney\n",
            "5: cleon\n"
          ]
        }
      ],
      "metadata": {
        "id": "PB77L_N9Dlsr"
      }
    },
    {
      "cell_type": "markdown",
      "source": [
        "---\n",
        "\n",
        "### 6. Combine the ninth and 10th student names into a single string, separated by a space.  Assign that string to a variable."
      ],
      "metadata": {
        "id": "ws-mRliSDlss"
      }
    },
    {
      "cell_type": "code",
      "execution_count": 45,
      "source": [
        "# A:\r\n",
        "student_names = ['alex', 'andrew', 'bishajit', 'brittney','cleon','craig','darren','denzel','dilobar','franklin','hector','ian','ibrahima','isaac']\r\n",
        "\r\n",
        "new_student = f\"{student_names[9]} {student_names[10]}\"\r\n",
        "print(new_student)"
      ],
      "outputs": [
        {
          "output_type": "stream",
          "name": "stdout",
          "text": [
            "franklin hector\n"
          ]
        }
      ],
      "metadata": {
        "id": "rPNdWYdpDlss"
      }
    },
    {
      "cell_type": "markdown",
      "source": [
        "---\n",
        "\n",
        "### 7. Append an animal to the list of animals."
      ],
      "metadata": {
        "id": "WlC5MUnkDlst"
      }
    },
    {
      "cell_type": "code",
      "execution_count": 46,
      "source": [
        "animals = ['duck', 'rat', 'boar', 'slug', 'mammoth', 'gazelle']"
      ],
      "outputs": [],
      "metadata": {
        "collapsed": true,
        "id": "bIdJ0s8BDlst"
      }
    },
    {
      "cell_type": "code",
      "execution_count": 47,
      "source": [
        "# A:\r\n",
        "animals = ['duck', 'rat', 'boar', 'slug', 'mammoth', 'gazelle']\r\n",
        "animals.append(\"lion\")\r\n",
        "print(animals)\r\n",
        "\r\n"
      ],
      "outputs": [
        {
          "output_type": "stream",
          "name": "stdout",
          "text": [
            "['duck', 'rat', 'boar', 'slug', 'mammoth', 'gazelle', 'lion']\n"
          ]
        }
      ],
      "metadata": {
        "id": "_xgaYhEoDlst"
      }
    },
    {
      "cell_type": "markdown",
      "source": [
        "---\n",
        "\n",
        "### 8. Print the length of the animals list."
      ],
      "metadata": {
        "id": "fylJSktEDlsu"
      }
    },
    {
      "cell_type": "code",
      "execution_count": 48,
      "source": [
        "# A:\r\n",
        "animals = ['duck', 'rat', 'boar', 'slug', 'mammoth', 'gazelle']\r\n",
        "print(len(animals))\r\n"
      ],
      "outputs": [
        {
          "output_type": "stream",
          "name": "stdout",
          "text": [
            "6\n"
          ]
        }
      ],
      "metadata": {
        "id": "y-oS9W-UDlsu"
      }
    },
    {
      "cell_type": "markdown",
      "source": [
        "---\n",
        "\n",
        "### 9. Divide the length of the fifth animal by the second."
      ],
      "metadata": {
        "id": "pqcQnwkkDlsu"
      }
    },
    {
      "cell_type": "code",
      "execution_count": 51,
      "source": [
        "# A:\r\n",
        "animals = ['duck', 'rat', 'boar', 'slug', 'mammoth', 'gazelle']\r\n",
        "first_animal = len(animals[5])\r\n",
        "second_animal = len(animals[3])\r\n",
        "\r\n",
        "print(first_animal / second_animal)\r\n",
        "\r\n"
      ],
      "outputs": [
        {
          "output_type": "stream",
          "name": "stdout",
          "text": [
            "1.75\n"
          ]
        }
      ],
      "metadata": {
        "id": "JIAghPW2Dlsu"
      }
    },
    {
      "cell_type": "markdown",
      "source": [
        "---\n",
        "\n",
        "### 10. Perform the same division, but ensure output is a decimal number."
      ],
      "metadata": {
        "id": "R3S8zwMiDlsv"
      }
    },
    {
      "cell_type": "code",
      "execution_count": 52,
      "source": [
        "# A:\r\n",
        "animals = ['duck', 'rat', 'boar', 'slug', 'mammoth', 'gazelle']\r\n",
        "first_animal = len(animals[5])\r\n",
        "second_animal = len(animals[3])\r\n",
        "\r\n",
        "print(float(first_animal / second_animal))\r\n"
      ],
      "outputs": [
        {
          "output_type": "stream",
          "name": "stdout",
          "text": [
            "1.75\n"
          ]
        }
      ],
      "metadata": {
        "id": "gF_TVPLEDlsv"
      }
    },
    {
      "cell_type": "markdown",
      "source": [
        "---\n",
        "\n",
        "### 11. Show two different ways to combine the animals list and the numbers list."
      ],
      "metadata": {
        "id": "XLGmwkc2Dlsv"
      }
    },
    {
      "cell_type": "code",
      "execution_count": null,
      "source": [
        "numbers = [0., 0.1, 1., 10., 100., 1000.]"
      ],
      "outputs": [],
      "metadata": {
        "collapsed": true,
        "id": "tY9u-Go9Dlsv"
      }
    },
    {
      "cell_type": "code",
      "execution_count": 56,
      "source": [
        "# A:\r\n",
        "animals = ['duck', 'rat', 'boar', 'slug', 'mammoth', 'gazelle']\r\n",
        "numbers = [0., 0.1, 1., 10., 100., 1000.]\r\n",
        "\r\n",
        "# newlist = animals + numbers \r\n",
        "# print(newlist)\r\n",
        "\r\n",
        "merged_list = []\r\n",
        "for x in animals:\r\n",
        "    merged_list.append(x)\r\n",
        "for x in numbers:\r\n",
        "    merged_list.append(x)\r\n",
        "print(merged_list)\r\n",
        "\r\n"
      ],
      "outputs": [
        {
          "output_type": "stream",
          "name": "stdout",
          "text": [
            "['duck', 'rat', 'boar', 'slug', 'mammoth', 'gazelle', 0.0, 0.1, 1.0, 10.0, 100.0, 1000.0]\n"
          ]
        }
      ],
      "metadata": {
        "id": "qMCeUegRDlsw"
      }
    },
    {
      "cell_type": "markdown",
      "source": [
        "---\n",
        "\n",
        "### 12. Remove 'student' from the list and insert your own in its place."
      ],
      "metadata": {
        "id": "FiQJyGubDlsw"
      }
    },
    {
      "cell_type": "code",
      "execution_count": null,
      "source": [
        "names = ['doug', 'billy', 'student', 'kian', 'sam']"
      ],
      "outputs": [],
      "metadata": {
        "collapsed": true,
        "id": "u3E2bCSFDlsw"
      }
    },
    {
      "cell_type": "code",
      "execution_count": 60,
      "source": [
        "# A:\r\n",
        "names = ['doug', 'billy', 'student', 'kian', 'sam']\r\n",
        "names[2] = 'Ricardo'\r\n",
        "print(names)"
      ],
      "outputs": [
        {
          "output_type": "stream",
          "name": "stdout",
          "text": [
            "['doug', 'billy', 'Ricardo', 'kian', 'sam']\n"
          ]
        }
      ],
      "metadata": {
        "id": "Tdz3SaVhDlsx"
      }
    },
    {
      "cell_type": "markdown",
      "source": [
        "---\n",
        "\n",
        "### 13. Sort the following list."
      ],
      "metadata": {
        "id": "Bxf7DOlCDlsx"
      }
    },
    {
      "cell_type": "code",
      "execution_count": 8,
      "source": [
        "mix = [['billy', 'sam'], {'key':'value'}, 12.999, 12, 'flower', 'a', (1, 2, 3)]"
      ],
      "outputs": [
        {
          "output_type": "error",
          "ename": "TypeError",
          "evalue": "'<' not supported between instances of 'dict' and 'list'",
          "traceback": [
            "\u001b[1;31m---------------------------------------------------------------------------\u001b[0m",
            "\u001b[1;31mTypeError\u001b[0m                                 Traceback (most recent call last)",
            "\u001b[1;32m~\\AppData\\Local\\Temp/ipykernel_22508/3455373287.py\u001b[0m in \u001b[0;36m<module>\u001b[1;34m\u001b[0m\n\u001b[0;32m      1\u001b[0m \u001b[0mmix\u001b[0m \u001b[1;33m=\u001b[0m \u001b[1;33m[\u001b[0m\u001b[1;33m[\u001b[0m\u001b[1;34m'billy'\u001b[0m\u001b[1;33m,\u001b[0m \u001b[1;34m'sam'\u001b[0m\u001b[1;33m]\u001b[0m\u001b[1;33m,\u001b[0m \u001b[1;33m{\u001b[0m\u001b[1;34m'key'\u001b[0m\u001b[1;33m:\u001b[0m\u001b[1;34m'value'\u001b[0m\u001b[1;33m}\u001b[0m\u001b[1;33m,\u001b[0m \u001b[1;36m12.999\u001b[0m\u001b[1;33m,\u001b[0m \u001b[1;36m12\u001b[0m\u001b[1;33m,\u001b[0m \u001b[1;34m'flower'\u001b[0m\u001b[1;33m,\u001b[0m \u001b[1;34m'a'\u001b[0m\u001b[1;33m,\u001b[0m \u001b[1;33m(\u001b[0m\u001b[1;36m1\u001b[0m\u001b[1;33m,\u001b[0m \u001b[1;36m2\u001b[0m\u001b[1;33m,\u001b[0m \u001b[1;36m3\u001b[0m\u001b[1;33m)\u001b[0m\u001b[1;33m]\u001b[0m\u001b[1;33m\u001b[0m\u001b[1;33m\u001b[0m\u001b[0m\n\u001b[1;32m----> 2\u001b[1;33m \u001b[0mmix\u001b[0m\u001b[1;33m.\u001b[0m\u001b[0msort\u001b[0m\u001b[1;33m(\u001b[0m\u001b[1;33m)\u001b[0m\u001b[1;33m\u001b[0m\u001b[1;33m\u001b[0m\u001b[0m\n\u001b[0m\u001b[0;32m      3\u001b[0m \u001b[0mprint\u001b[0m\u001b[1;33m(\u001b[0m\u001b[0mtype\u001b[0m\u001b[1;33m(\u001b[0m\u001b[0mmix\u001b[0m\u001b[1;33m)\u001b[0m\u001b[1;33m)\u001b[0m\u001b[1;33m\u001b[0m\u001b[1;33m\u001b[0m\u001b[0m\n\u001b[0;32m      4\u001b[0m \u001b[0mprint\u001b[0m\u001b[1;33m(\u001b[0m\u001b[0mmix\u001b[0m\u001b[1;33m)\u001b[0m\u001b[1;33m\u001b[0m\u001b[1;33m\u001b[0m\u001b[0m\n",
            "\u001b[1;31mTypeError\u001b[0m: '<' not supported between instances of 'dict' and 'list'"
          ]
        }
      ],
      "metadata": {
        "collapsed": true,
        "id": "9HlKE5V3Dlsx"
      }
    },
    {
      "cell_type": "code",
      "execution_count": 9,
      "source": [
        "# A:\r\n",
        "mix = [['billy', 'sam'], {'key':'value'}, 12.999, 12, 'flower', 'a', (1, 2, 3)]\r\n",
        "mix.sort()\r\n",
        "print(type(mix))\r\n",
        "print(mix)\r\n"
      ],
      "outputs": [
        {
          "output_type": "error",
          "ename": "TypeError",
          "evalue": "'<' not supported between instances of 'dict' and 'list'",
          "traceback": [
            "\u001b[1;31m---------------------------------------------------------------------------\u001b[0m",
            "\u001b[1;31mTypeError\u001b[0m                                 Traceback (most recent call last)",
            "\u001b[1;32m~\\AppData\\Local\\Temp/ipykernel_22508/2736035086.py\u001b[0m in \u001b[0;36m<module>\u001b[1;34m\u001b[0m\n\u001b[0;32m      1\u001b[0m \u001b[1;31m# A:\u001b[0m\u001b[1;33m\u001b[0m\u001b[1;33m\u001b[0m\u001b[1;33m\u001b[0m\u001b[0m\n\u001b[0;32m      2\u001b[0m \u001b[0mmix\u001b[0m \u001b[1;33m=\u001b[0m \u001b[1;33m[\u001b[0m\u001b[1;33m[\u001b[0m\u001b[1;34m'billy'\u001b[0m\u001b[1;33m,\u001b[0m \u001b[1;34m'sam'\u001b[0m\u001b[1;33m]\u001b[0m\u001b[1;33m,\u001b[0m \u001b[1;33m{\u001b[0m\u001b[1;34m'key'\u001b[0m\u001b[1;33m:\u001b[0m\u001b[1;34m'value'\u001b[0m\u001b[1;33m}\u001b[0m\u001b[1;33m,\u001b[0m \u001b[1;36m12.999\u001b[0m\u001b[1;33m,\u001b[0m \u001b[1;36m12\u001b[0m\u001b[1;33m,\u001b[0m \u001b[1;34m'flower'\u001b[0m\u001b[1;33m,\u001b[0m \u001b[1;34m'a'\u001b[0m\u001b[1;33m,\u001b[0m \u001b[1;33m(\u001b[0m\u001b[1;36m1\u001b[0m\u001b[1;33m,\u001b[0m \u001b[1;36m2\u001b[0m\u001b[1;33m,\u001b[0m \u001b[1;36m3\u001b[0m\u001b[1;33m)\u001b[0m\u001b[1;33m]\u001b[0m\u001b[1;33m\u001b[0m\u001b[1;33m\u001b[0m\u001b[0m\n\u001b[1;32m----> 3\u001b[1;33m \u001b[0mmix\u001b[0m\u001b[1;33m.\u001b[0m\u001b[0msort\u001b[0m\u001b[1;33m(\u001b[0m\u001b[1;33m)\u001b[0m\u001b[1;33m\u001b[0m\u001b[1;33m\u001b[0m\u001b[0m\n\u001b[0m\u001b[0;32m      4\u001b[0m \u001b[0mprint\u001b[0m\u001b[1;33m(\u001b[0m\u001b[0mtype\u001b[0m\u001b[1;33m(\u001b[0m\u001b[0mmix\u001b[0m\u001b[1;33m)\u001b[0m\u001b[1;33m)\u001b[0m\u001b[1;33m\u001b[0m\u001b[1;33m\u001b[0m\u001b[0m\n\u001b[0;32m      5\u001b[0m \u001b[0mprint\u001b[0m\u001b[1;33m(\u001b[0m\u001b[0mmix\u001b[0m\u001b[1;33m)\u001b[0m\u001b[1;33m\u001b[0m\u001b[1;33m\u001b[0m\u001b[0m\n",
            "\u001b[1;31mTypeError\u001b[0m: '<' not supported between instances of 'dict' and 'list'"
          ]
        }
      ],
      "metadata": {
        "id": "bsG1pWioDlsx"
      }
    },
    {
      "cell_type": "markdown",
      "source": [
        "---\n",
        "\n",
        "### 14. Manually check whether one element of `mix` is greater than another."
      ],
      "metadata": {
        "id": "ZE6NApZ5Dlsy"
      }
    },
    {
      "cell_type": "code",
      "execution_count": null,
      "source": [
        "# A:\r\n",
        "\r\n"
      ],
      "outputs": [],
      "metadata": {
        "id": "hF1RkhF3Dlsy"
      }
    },
    {
      "cell_type": "markdown",
      "source": [
        "---\n",
        "\n",
        "### 15. Find the index of `'a'` in the list."
      ],
      "metadata": {
        "id": "l4-y0LKRDlsy"
      }
    },
    {
      "cell_type": "code",
      "execution_count": null,
      "source": [
        "# A:\r\n",
        "\r\n"
      ],
      "outputs": [],
      "metadata": {
        "id": "HUrQsWGXDlsy"
      }
    },
    {
      "cell_type": "markdown",
      "source": [
        "---\n",
        "\n",
        "### 16. Reverse the `mix` list."
      ],
      "metadata": {
        "id": "xxXMu8-bDlsz"
      }
    },
    {
      "cell_type": "code",
      "execution_count": null,
      "source": [
        "# A:\r\n",
        "\r\n"
      ],
      "outputs": [],
      "metadata": {
        "id": "yc1OU870Dlsz"
      }
    },
    {
      "cell_type": "markdown",
      "source": [
        "---\n",
        "\n",
        "### 17. Remove the last element of `mix`,  and assign it to a variable."
      ],
      "metadata": {
        "id": "NE6IngsMDlsz"
      }
    },
    {
      "cell_type": "code",
      "execution_count": null,
      "source": [
        "# A:\r\n",
        "\r\n"
      ],
      "outputs": [],
      "metadata": {
        "id": "AazYJMHPDlsz"
      }
    },
    {
      "cell_type": "markdown",
      "source": [
        "---\n",
        "\n",
        "### 18. Count the number of times `0` appears in the following list."
      ],
      "metadata": {
        "id": "jtWH0CaPDls0"
      }
    },
    {
      "cell_type": "code",
      "execution_count": null,
      "source": [
        "binary = [0,1,1,0,1,0,1,1,1,1,0,0,1,0,0,1,0,1,1,0,0,1,1,0,1,1,0,0,0,1,1,1,0,1,0,1]"
      ],
      "outputs": [],
      "metadata": {
        "collapsed": true,
        "id": "rQL3CRNwDls0"
      }
    },
    {
      "cell_type": "code",
      "execution_count": 83,
      "source": [
        "# A:\r\n",
        "binary = [0,1,1,0,1,0,1,1,1,1,0,0,1,0,0,1,0,1,1,0,0,1,1,0,1,1,0,0,0,1,1,1,0,1,0,1]\r\n",
        "print(binary.count(0))\r\n"
      ],
      "outputs": [
        {
          "output_type": "stream",
          "name": "stdout",
          "text": [
            "16\n"
          ]
        }
      ],
      "metadata": {
        "id": "INYJZWGPDls0"
      }
    },
    {
      "cell_type": "markdown",
      "source": [
        "---\n",
        "\n",
        "19. Create an NYC zipcode dictionary.\n",
        "\n",
        "With the following key:value pairs:\n",
        "\n",
        "    'central_harlem':10026\n",
        "    'soho':10012\n",
        "    'bushwick':11206\n",
        "    'north_queens':11354"
      ],
      "metadata": {
        "id": "YWwX_j-8Dls1"
      }
    },
    {
      "cell_type": "code",
      "execution_count": 88,
      "source": [
        "# A:\r\n",
        "nyc_zipcode = {\r\n",
        "    \"central_harlem\": 10026,\r\n",
        "    \"soho\": 10012,\r\n",
        "    \"bushwick\": 11206,\r\n",
        "    \"north_queens\": 11354\r\n",
        "}\r\n",
        "\r\n"
      ],
      "outputs": [
        {
          "output_type": "stream",
          "name": "stdout",
          "text": [
            "10012\n"
          ]
        }
      ],
      "metadata": {
        "id": "rUZNPbjLDls1"
      }
    },
    {
      "cell_type": "markdown",
      "source": [
        "---\n",
        "\n",
        "### 20. Get the zipcode for `'soho'`, and assign it to a variable."
      ],
      "metadata": {
        "id": "XYtah6W5Dls1"
      }
    },
    {
      "cell_type": "code",
      "execution_count": 89,
      "source": [
        "# A:\r\n",
        "nyc_zipcode = {\r\n",
        "    \"central_harlem\": 10026,\r\n",
        "    \"soho\": 10012,\r\n",
        "    \"bushwick\": 11206,\r\n",
        "    \"north_queens\": 11354\r\n",
        "}\r\n",
        "assigned_zipcode = nyc_zipcode[\"soho\"]\r\n",
        "print(assigned_zipcode)\r\n"
      ],
      "outputs": [
        {
          "output_type": "stream",
          "name": "stdout",
          "text": [
            "10012\n"
          ]
        }
      ],
      "metadata": {
        "id": "1iH1To8LDls1"
      }
    },
    {
      "cell_type": "markdown",
      "source": [
        "---\n",
        "\n",
        "### 21. Get the keys out of the dictionary."
      ],
      "metadata": {
        "id": "GxvOkyjnDls2"
      }
    },
    {
      "cell_type": "code",
      "execution_count": 90,
      "source": [
        "# A:\r\n",
        "nyc_zipcode = {\r\n",
        "    \"central_harlem\": 10026,\r\n",
        "    \"soho\": 10012,\r\n",
        "    \"bushwick\": 11206,\r\n",
        "    \"north_queens\": 11354\r\n",
        "}\r\n",
        "\r\n",
        "print(nyc_zipcode.keys())\r\n"
      ],
      "outputs": [
        {
          "output_type": "stream",
          "name": "stdout",
          "text": [
            "dict_keys(['central_harlem', 'soho', 'bushwick', 'north_queens'])\n"
          ]
        }
      ],
      "metadata": {
        "id": "HszCDQyoDls2"
      }
    },
    {
      "cell_type": "markdown",
      "source": [
        "---\n",
        "\n",
        "### 22. Get the key:value pairs out of the dictionary as a list of tuples."
      ],
      "metadata": {
        "id": "8cUG_jWUDls2"
      }
    },
    {
      "cell_type": "code",
      "execution_count": 91,
      "source": [
        "# A:\r\n",
        "nyc_zipcode = {\r\n",
        "    \"central_harlem\": 10026,\r\n",
        "    \"soho\": 10012,\r\n",
        "    \"bushwick\": 11206,\r\n",
        "    \"north_queens\": 11354\r\n",
        "}\r\n",
        "\r\n",
        "print(nyc_zipcode.items())\r\n"
      ],
      "outputs": [
        {
          "output_type": "stream",
          "name": "stdout",
          "text": [
            "dict_items([('central_harlem', 10026), ('soho', 10012), ('bushwick', 11206), ('north_queens', 11354)])\n"
          ]
        }
      ],
      "metadata": {
        "id": "pMZr2uy_Dls2"
      }
    },
    {
      "cell_type": "markdown",
      "source": [
        "---\n",
        "\n",
        "### 23. Add `'port_richmond'` to the dictionary with zipcode 10302."
      ],
      "metadata": {
        "id": "MRn7c6mbDls3"
      }
    },
    {
      "cell_type": "code",
      "execution_count": 92,
      "source": [
        "# A:\r\n",
        "nyc_zipcode = {\r\n",
        "    \"central_harlem\": 10026,\r\n",
        "    \"soho\": 10012,\r\n",
        "    \"bushwick\": 11206,\r\n",
        "    \"north_queens\": 11354\r\n",
        "}\r\n",
        "\r\n",
        "nyc_zipcode.update({\"port_richmond\": 10302})\r\n",
        "print(nyc_zipcode)\r\n"
      ],
      "outputs": [
        {
          "output_type": "stream",
          "name": "stdout",
          "text": [
            "{'central_harlem': 10026, 'soho': 10012, 'bushwick': 11206, 'north_queens': 11354, 'port_richmond': 10302}\n"
          ]
        }
      ],
      "metadata": {
        "id": "XC_gZOxbDls3"
      }
    },
    {
      "cell_type": "markdown",
      "source": [
        "---\n",
        "\n",
        "### 24. Combine the following smaller dictionary of districts with the NYC zip codedictionary."
      ],
      "metadata": {
        "id": "iBVrusO0Dls3"
      }
    },
    {
      "cell_type": "code",
      "execution_count": null,
      "source": [
        "small = {'fordham':10458, 'southeast_bronx':10461}"
      ],
      "outputs": [],
      "metadata": {
        "collapsed": true,
        "id": "d9DKMVxLDls3"
      }
    },
    {
      "cell_type": "code",
      "execution_count": 96,
      "source": [
        "# A:\r\n",
        "small = {'fordham':10458, 'southeast_bronx':10461}\r\n",
        "\r\n",
        "nyc_zipcode = {\r\n",
        "    \"central_harlem\": 10026,\r\n",
        "    \"soho\": 10012,\r\n",
        "    \"bushwick\": 11206,\r\n",
        "    \"north_queens\": 11354\r\n",
        "}\r\n",
        "\r\n",
        "nyc_zipcode.update(small)\r\n",
        "print(nyc_zipcode)\r\n"
      ],
      "outputs": [
        {
          "output_type": "stream",
          "name": "stdout",
          "text": [
            "{'central_harlem': 10026, 'soho': 10012, 'bushwick': 11206, 'north_queens': 11354, 'fordham': 10458, 'southeast_bronx': 10461}\n"
          ]
        }
      ],
      "metadata": {
        "id": "xapkAdT7Dls4"
      }
    },
    {
      "cell_type": "markdown",
      "source": [
        "---\n",
        "\n",
        "### 25. Remove the '`fordham`' zipcode, and assign it to a variable."
      ],
      "metadata": {
        "id": "D9zGBfqzDls4"
      }
    },
    {
      "cell_type": "code",
      "execution_count": 97,
      "source": [
        "# A:\r\n",
        "small = {'fordham':10458, 'southeast_bronx':10461}\r\n",
        "\r\n",
        "nyc_zipcode = {\r\n",
        "    \"central_harlem\": 10026,\r\n",
        "    \"soho\": 10012,\r\n",
        "    \"bushwick\": 11206,\r\n",
        "    \"north_queens\": 11354\r\n",
        "}\r\n",
        "nyc_zipcode.update(small)\r\n",
        "\r\n",
        "removed = nyc_zipcode.pop(\"fordham\")\r\n",
        "print(nyc_zipcode)\r\n",
        "print(removed)"
      ],
      "outputs": [
        {
          "output_type": "stream",
          "name": "stdout",
          "text": [
            "{'central_harlem': 10026, 'soho': 10012, 'bushwick': 11206, 'north_queens': 11354, 'southeast_bronx': 10461}\n",
            "10458\n"
          ]
        }
      ],
      "metadata": {
        "id": "MBY1RvalDls4"
      }
    },
    {
      "cell_type": "markdown",
      "source": [
        "---\n",
        "\n",
        "### 26. Check if the 'southeast_bronx' is in the dictionary."
      ],
      "metadata": {
        "id": "zitBPPwCDls4"
      }
    },
    {
      "cell_type": "code",
      "execution_count": 98,
      "source": [
        "# A:\r\n",
        "small = {'fordham':10458, 'southeast_bronx':10461}\r\n",
        "\r\n",
        "nyc_zipcode = {\r\n",
        "    \"central_harlem\": 10026,\r\n",
        "    \"soho\": 10012,\r\n",
        "    \"bushwick\": 11206,\r\n",
        "    \"north_queens\": 11354\r\n",
        "}\r\n",
        "nyc_zipcode.update(small)\r\n",
        "\r\n",
        "print(nyc_zipcode.get(\"southeast_bronx\"))"
      ],
      "outputs": [
        {
          "output_type": "stream",
          "name": "stdout",
          "text": [
            "10461\n"
          ]
        }
      ],
      "metadata": {
        "id": "kROMn4mZDls5"
      }
    }
  ]
}