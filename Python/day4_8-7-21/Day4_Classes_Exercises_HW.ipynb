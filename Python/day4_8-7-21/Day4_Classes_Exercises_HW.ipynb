{
  "nbformat": 4,
  "nbformat_minor": 0,
  "metadata": {
    "colab": {
      "name": "Day4_Classes_Exercises_HW.ipynb",
      "provenance": [],
      "collapsed_sections": []
    },
    "kernelspec": {
      "name": "python3",
      "display_name": "Python 3"
    },
    "language_info": {
      "name": "python"
    }
  },
  "cells": [
    {
      "cell_type": "markdown",
      "metadata": {
        "id": "4qUaQvz9uzuU"
      },
      "source": [
        ""
      ]
    },
    {
      "cell_type": "markdown",
      "metadata": {
        "id": "Vw_1I0Cmt737"
      },
      "source": [
        "1. Create a Circle class and intialize it with radius. Make two methods getArea and getCircumference inside this class."
      ]
    },
    {
      "cell_type": "code",
      "metadata": {
        "id": "Z0I53oRTug3G"
      },
      "source": [
        ""
      ],
      "execution_count": null,
      "outputs": []
    },
    {
      "cell_type": "markdown",
      "metadata": {
        "id": "p4Nqi8_mt8C0"
      },
      "source": [
        "2. Create a Temperature class. Make two methods :\n",
        "a. convertFahrenheit - It will take celsius and will print it into Fahrenheit.\n",
        "b. convertCelsius - It will take Fahrenheit and will convert it into Celsius."
      ]
    },
    {
      "cell_type": "code",
      "metadata": {
        "id": "DlOy4145uxsc"
      },
      "source": [
        ""
      ],
      "execution_count": null,
      "outputs": []
    },
    {
      "cell_type": "markdown",
      "metadata": {
        "id": "TGHkRQdQt8K1"
      },
      "source": [
        "3. Create a Student class and initialize it with name and roll number. Make methods to :\n",
        "\n",
        "Display - It should display all informations of the student.\n",
        "setAge - It should assign age to student\n",
        "setMarks - It should assign marks to the student."
      ]
    },
    {
      "cell_type": "code",
      "metadata": {
        "id": "juv81e5ZuvZz"
      },
      "source": [
        ""
      ],
      "execution_count": null,
      "outputs": []
    },
    {
      "cell_type": "markdown",
      "metadata": {
        "id": "2HgbNzoxt81f"
      },
      "source": [
        "4. Create a Time class and initialize it with hours and minutes.\n",
        "\n",
        "Make a method addTime which should take two time object and add them. E.g.- (2 hour and 50 min)+(1 hr and 20 min) is (4 hr and 10 min)\n",
        "Make a method displayTime which should print the time.\n",
        "Make a method DisplayMinute which should display the total minutes in the Time. E.g.- (1 hr 2 min) should display 62 minute."
      ]
    },
    {
      "cell_type": "code",
      "metadata": {
        "id": "9iJNoOlQum-u"
      },
      "source": [
        " "
      ],
      "execution_count": null,
      "outputs": []
    }
  ]
}