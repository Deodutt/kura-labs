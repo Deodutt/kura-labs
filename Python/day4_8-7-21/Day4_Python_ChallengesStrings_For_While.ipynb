{
  "nbformat": 4,
  "nbformat_minor": 0,
  "metadata": {
    "colab": {
      "name": "Day4_ChallengesStrings_For_While_Kura.ipynb",
      "provenance": []
    },
    "kernelspec": {
      "name": "python3",
      "display_name": "Python 3"
    },
    "language_info": {
      "name": "python"
    }
  },
  "cells": [
    {
      "cell_type": "markdown",
      "metadata": {
        "id": "uMMO_PFq7-_z"
      },
      "source": [
        "# (Strings) "
      ]
    },
    {
      "cell_type": "markdown",
      "metadata": {
        "id": "a6QxzxLF8GfB"
      },
      "source": [
        "1)Ask the user to enter\n",
        "their first name and\n",
        "then display the\n",
        "length of their name.\n"
      ]
    },
    {
      "cell_type": "code",
      "metadata": {
        "id": "x4jsKT5_8Jvk"
      },
      "source": [
        ""
      ],
      "execution_count": null,
      "outputs": []
    },
    {
      "cell_type": "markdown",
      "metadata": {
        "id": "2b0Bhr198Lwc"
      },
      "source": [
        "2) Ask the user to enter their first name and then ask them to\n",
        "enter their surname. Join them together with a space between\n",
        "and display the name and the length of whole name.\n"
      ]
    },
    {
      "cell_type": "code",
      "metadata": {
        "id": "8nzVdBEk8R9a"
      },
      "source": [
        ""
      ],
      "execution_count": null,
      "outputs": []
    },
    {
      "cell_type": "markdown",
      "metadata": {
        "id": "r5fbTIHe8Smi"
      },
      "source": [
        "3) Ask the user to enter their first name and surname in lower\n",
        "case. Change the case to title case and join them together.\n",
        "Display the finished result.\n"
      ]
    },
    {
      "cell_type": "code",
      "metadata": {
        "id": "otyIwskv8ZSJ"
      },
      "source": [
        ""
      ],
      "execution_count": null,
      "outputs": []
    },
    {
      "cell_type": "markdown",
      "metadata": {
        "id": "skPjvNmy8aiq"
      },
      "source": [
        "4) Ask the user to type in the first\n",
        "line of a nursery rhyme and\n",
        "display the length of the string.\n",
        "Ask for a starting number and an\n",
        "ending number and then display\n",
        "just that section of the text (remember Python starts\n",
        "counting from 0 and not 1).\n",
        "\n"
      ]
    },
    {
      "cell_type": "code",
      "metadata": {
        "id": "sI4AE8QX8jmN"
      },
      "source": [
        ""
      ],
      "execution_count": null,
      "outputs": []
    },
    {
      "cell_type": "markdown",
      "metadata": {
        "id": "uMYtwzza8kYB"
      },
      "source": [
        "5) Ask the user to type in any word and display it in\n",
        "upper case.\n"
      ]
    },
    {
      "cell_type": "code",
      "metadata": {
        "id": "Tb4Fdnwx8tOT"
      },
      "source": [
        ""
      ],
      "execution_count": null,
      "outputs": []
    },
    {
      "cell_type": "markdown",
      "metadata": {
        "id": "j_n30Whh8uQm"
      },
      "source": [
        "6) Ask the user to enter their first name. If the length\n",
        "of their first name is under five characters, ask\n",
        "them to enter their surname and join them\n",
        "together (without a space) and display the name\n",
        "in upper case. If the length of the first name is five\n",
        "or more characters, display their first name in\n",
        "lower case.\n"
      ]
    },
    {
      "cell_type": "code",
      "metadata": {
        "id": "yAMcHlAR8yjG"
      },
      "source": [
        ""
      ],
      "execution_count": null,
      "outputs": []
    },
    {
      "cell_type": "markdown",
      "metadata": {
        "id": "AP3TVcO_8zpi"
      },
      "source": [
        "7) Pig Latin takes the first consonant of a word,\n",
        "moves it to the end of the word and adds on an\n",
        "“ay”. If a word begins with a vowel you just add\n",
        "“way” to the end. For example, pig becomes igpay,\n",
        "banana becomes ananabay, and aadvark becomes\n",
        "aadvarkway. Create a program that will ask the\n",
        "user to enter a word and change it into Pig Latin.\n",
        "Make sure the new word is displayed in lower case.\n",
        "\n"
      ]
    },
    {
      "cell_type": "code",
      "metadata": {
        "id": "gCi49b-_83dP"
      },
      "source": [
        ""
      ],
      "execution_count": null,
      "outputs": []
    },
    {
      "cell_type": "markdown",
      "metadata": {
        "id": "1uGZ2rA59Qi1"
      },
      "source": [
        ""
      ]
    },
    {
      "cell_type": "markdown",
      "metadata": {
        "id": "a1d-f1G79RSK"
      },
      "source": [
        "# Challenges (For Loop)"
      ]
    },
    {
      "cell_type": "markdown",
      "metadata": {
        "id": "S0cNQhdK9XNb"
      },
      "source": [
        "1) Ask the user to enter\n",
        "their name and then\n",
        "display their name\n",
        "three times.\n"
      ]
    },
    {
      "cell_type": "code",
      "metadata": {
        "id": "jcOmAo_Z9cHk"
      },
      "source": [
        ""
      ],
      "execution_count": null,
      "outputs": []
    },
    {
      "cell_type": "markdown",
      "metadata": {
        "id": "IDDqyspV9ckZ"
      },
      "source": [
        "2) Alter program 035 so that it will ask the user to enter their\n",
        "name and a number and then display their name that\n",
        "number of times.\n"
      ]
    },
    {
      "cell_type": "code",
      "metadata": {
        "id": "SHShsVrS9gLX"
      },
      "source": [
        ""
      ],
      "execution_count": null,
      "outputs": []
    },
    {
      "cell_type": "markdown",
      "metadata": {
        "id": "w3O4Lthx9gon"
      },
      "source": [
        "3) Ask the user to enter their name and display each letter in\n",
        "their name on a separate line.\n"
      ]
    },
    {
      "cell_type": "code",
      "metadata": {
        "id": "P84GraBE9klR"
      },
      "source": [
        ""
      ],
      "execution_count": null,
      "outputs": []
    },
    {
      "cell_type": "markdown",
      "metadata": {
        "id": "5VuqEWpX9lRY"
      },
      "source": [
        "4) SKIP\n",
        "\n"
      ]
    },
    {
      "cell_type": "code",
      "metadata": {
        "id": "waNDmguo9pdp"
      },
      "source": [
        ""
      ],
      "execution_count": null,
      "outputs": []
    },
    {
      "cell_type": "markdown",
      "metadata": {
        "id": "gSID1rO69qZN"
      },
      "source": [
        "5) Ask the user to enter a number between 1\n",
        "and 12 and then display the times table for\n",
        "that number.\n"
      ]
    },
    {
      "cell_type": "code",
      "metadata": {
        "id": "007lMZ_k9uCg"
      },
      "source": [
        ""
      ],
      "execution_count": null,
      "outputs": []
    },
    {
      "cell_type": "markdown",
      "metadata": {
        "id": "x_z9Jhn59ues"
      },
      "source": [
        "6) Ask for a number below 50 and then count down from\n",
        "50 to that number, making sure you show the number\n",
        "they entered in the output.\n"
      ]
    },
    {
      "cell_type": "code",
      "metadata": {
        "id": "g5X_aqiE9yWv"
      },
      "source": [
        ""
      ],
      "execution_count": null,
      "outputs": []
    },
    {
      "cell_type": "markdown",
      "metadata": {
        "id": "BTkpGqeI9ytV"
      },
      "source": [
        "7) Ask the user to enter their\n",
        "name and a number. If the\n",
        "number is less than 10, then\n",
        "display their name that\n",
        "number of times; otherwise\n",
        "display the message “Too\n",
        "high” three times.\n"
      ]
    },
    {
      "cell_type": "code",
      "metadata": {
        "id": "jOsfv-C0930M"
      },
      "source": [
        ""
      ],
      "execution_count": null,
      "outputs": []
    },
    {
      "cell_type": "markdown",
      "metadata": {
        "id": "YtI9yexL94Uo"
      },
      "source": [
        "8) Set a variable called total to 0. Ask the user to enter\n",
        "five numbers and after each input ask them if they\n",
        "want that number included. If they do, then add the\n",
        "number to the total. If they do not want it included,\n",
        "don’t add it to the total. After they have entered all five\n",
        "numbers, display the total.\n"
      ]
    },
    {
      "cell_type": "code",
      "metadata": {
        "id": "YzYkdiFC97RE"
      },
      "source": [
        ""
      ],
      "execution_count": null,
      "outputs": []
    },
    {
      "cell_type": "markdown",
      "metadata": {
        "id": "6QY1f7D697tf"
      },
      "source": [
        "9) Ask which direction the user wants to count (up or down). If they select up, then ask\n",
        "them for the top number and then count from 1 to that number. If they select down, ask\n",
        "them to enter a number below 20 and then count down from 20 to that number. If they\n",
        "entered something other than up or down, display the message “I don’t understand”.\n"
      ]
    },
    {
      "cell_type": "code",
      "metadata": {
        "id": "WKWn9p9W9_2_"
      },
      "source": [
        ""
      ],
      "execution_count": null,
      "outputs": []
    },
    {
      "cell_type": "markdown",
      "metadata": {
        "id": "JdpMvvM0-ATa"
      },
      "source": [
        "10) Ask how many people the user wants to invite to a party. If they enter a number below\n",
        "10, ask for the names and after each name display “[name] has been invited”. If they\n",
        "enter a number which is 10 or higher, display the message “Too many people”.\n",
        "\n"
      ]
    },
    {
      "cell_type": "code",
      "metadata": {
        "id": "YDWrUADo-ELr"
      },
      "source": [
        ""
      ],
      "execution_count": null,
      "outputs": []
    },
    {
      "cell_type": "markdown",
      "metadata": {
        "id": "FkZtF17k_rE7"
      },
      "source": [
        "# Challenges (While Loop)"
      ]
    },
    {
      "cell_type": "markdown",
      "metadata": {
        "id": "4_Z8Xk_D-EsJ"
      },
      "source": [
        "1) Set the total to 0 to start with. While the total is 50 or less, ask\n",
        "the user to input a number. Add that number to the total and\n",
        "print the message “The total is… [total]”. Stop the loop when\n",
        "the total is over 50.\n"
      ]
    },
    {
      "cell_type": "code",
      "metadata": {
        "id": "_IXYO-XU-i1u"
      },
      "source": [
        ""
      ],
      "execution_count": null,
      "outputs": []
    },
    {
      "cell_type": "markdown",
      "metadata": {
        "id": "1T2bpJXK-kpG"
      },
      "source": [
        "2) Ask the user to enter\n",
        "a number. Keep\n",
        "asking until they enter\n",
        "a value over 5 and\n",
        "then display the\n",
        "message “The last\n",
        "number you entered\n",
        "was a [number]” and\n",
        "stop the program.\n"
      ]
    },
    {
      "cell_type": "code",
      "metadata": {
        "id": "fjLJIZCS-p96"
      },
      "source": [
        ""
      ],
      "execution_count": null,
      "outputs": []
    },
    {
      "cell_type": "markdown",
      "metadata": {
        "id": "kQ8yK58C-qhS"
      },
      "source": [
        "3) Ask the user to enter a\n",
        "number and then enter\n",
        "another number. Add these\n",
        "two numbers together and\n",
        "then ask if they want to add\n",
        "another number. If they\n",
        "enter “y\", ask them to enter\n",
        "another number and keep\n",
        "adding numbers until they\n",
        "do not answer “y”. Once the\n",
        "loop has stopped, display\n",
        "the total.\n"
      ]
    },
    {
      "cell_type": "code",
      "metadata": {
        "id": "ATyYzF1K-tpq"
      },
      "source": [
        ""
      ],
      "execution_count": null,
      "outputs": []
    },
    {
      "cell_type": "markdown",
      "metadata": {
        "id": "GGJUiZZL-uHy"
      },
      "source": [
        "4) Ask for the name of somebody the user wants to invite\n",
        "to a party. After this, display the message “[name] has\n",
        "now been invited” and add 1 to the count. Then ask if\n",
        "they want to invite somebody else. Keep repeating this\n",
        "until they no longer want to invite anyone else to the\n",
        "party and then display how many people they have\n"
      ]
    },
    {
      "cell_type": "code",
      "metadata": {
        "id": "47FWBKbC-ydx"
      },
      "source": [
        ""
      ],
      "execution_count": null,
      "outputs": []
    },
    {
      "cell_type": "markdown",
      "metadata": {
        "id": "2sC_hXZy-y5z"
      },
      "source": [
        "5) coming to the party.\n",
        "Create a variable called\n",
        "compnum and set the value\n",
        "to 50. Ask the user to enter a\n",
        "number. While their guess\n",
        "is not the same as the\n",
        "compnum value, tell them if\n",
        "their guess is too low or too\n",
        "high and ask them to have\n",
        "another guess. If they enter\n",
        "the same value as\n",
        "compnum, display the\n",
        "message “Well done, you\n",
        "took [count] attempts”.\n"
      ]
    },
    {
      "cell_type": "code",
      "metadata": {
        "id": "h2VAZA8X-22F"
      },
      "source": [
        ""
      ],
      "execution_count": null,
      "outputs": []
    },
    {
      "cell_type": "markdown",
      "metadata": {
        "id": "AsQK1PF2-3VF"
      },
      "source": [
        "6) Ask the user to enter a number between\n",
        "10 and 20. If they enter a value under 10,\n",
        "display the message “Too low” and ask\n",
        "them to try again. If they enter a value\n",
        "above 20, display the message “Too high”\n",
        "and ask them to try again. Keep repeating\n",
        "this until they enter a value that is\n",
        "between 10 and 20 and then display the\n",
        "message “Thank you”.\n"
      ]
    },
    {
      "cell_type": "code",
      "metadata": {
        "id": "cN5WJPrU-6_w"
      },
      "source": [
        ""
      ],
      "execution_count": null,
      "outputs": []
    },
    {
      "cell_type": "markdown",
      "metadata": {
        "id": "XS0IPCZ--7YH"
      },
      "source": [
        "7) Using the song “10 green bottles”, display the lines “There are [num] green bottles\n",
        "hanging on the wall, [num] green bottles hanging on the wall, and if 1 green bottle\n",
        "should accidentally fall”. Then ask the question “how many green bottles will be\n",
        "hanging on the wall?” If the user answers correctly, display the message “There will be\n",
        "[num] green bottles hanging on the wall”. If they answer incorrectly, display the\n",
        "message “No, try again” until they get it right. When the number of green bottles gets\n",
        "down to 0, display the message “There are no more green bottles hanging on the wall”.\n",
        "\n"
      ]
    },
    {
      "cell_type": "code",
      "metadata": {
        "id": "w-jBklvl--dx"
      },
      "source": [
        ""
      ],
      "execution_count": null,
      "outputs": []
    },
    {
      "cell_type": "markdown",
      "metadata": {
        "id": "YLZWQU8E_0Mk"
      },
      "source": [
        "# Random() Class Challenges"
      ]
    },
    {
      "cell_type": "markdown",
      "metadata": {
        "id": "Z3Cu9zoK_53b"
      },
      "source": [
        "1) Display a\n",
        "random\n",
        "integer\n",
        "between\n",
        "1 and 100\n",
        "inclusive.\n"
      ]
    },
    {
      "cell_type": "code",
      "metadata": {
        "id": "Gl0lw3i6ADdS"
      },
      "source": [
        ""
      ],
      "execution_count": null,
      "outputs": []
    },
    {
      "cell_type": "markdown",
      "metadata": {
        "id": "NcGJEVyXAD7l"
      },
      "source": [
        "2) Display a\n",
        "random\n",
        "fruit from\n",
        "a list of\n",
        "five fruits.\n"
      ]
    },
    {
      "cell_type": "code",
      "metadata": {
        "id": "ZDg57leAAHjW"
      },
      "source": [
        ""
      ],
      "execution_count": null,
      "outputs": []
    },
    {
      "cell_type": "markdown",
      "metadata": {
        "id": "tMRz2mNAAIBm"
      },
      "source": [
        "3) Randomly choose either heads or tails (“h” or “t”). Ask\n",
        "the user to make their choice. If their choice is the same\n",
        "as the randomly selected value, display the message\n",
        "“You win”, otherwise display “Bad luck”. At the end, tell\n",
        "the user if the computer selected heads or tails.\n"
      ]
    },
    {
      "cell_type": "code",
      "metadata": {
        "id": "D7iEt6_JALZS"
      },
      "source": [
        ""
      ],
      "execution_count": null,
      "outputs": []
    },
    {
      "cell_type": "markdown",
      "metadata": {
        "id": "-AYlG23uAL8Y"
      },
      "source": [
        "4) Randomly choose a number between 1 and 5. Ask the user to pick a\n",
        "number. If they guess correctly, display the message “Well done”,\n",
        "otherwise tell them if they are too high or too low and ask them to pick a\n",
        "second number. If they guess correctly on their second guess, display\n",
        "“Correct”, otherwise display “You lose”.\n"
      ]
    },
    {
      "cell_type": "code",
      "metadata": {
        "id": "pbxaLnFNARdf"
      },
      "source": [
        ""
      ],
      "execution_count": null,
      "outputs": []
    },
    {
      "cell_type": "markdown",
      "metadata": {
        "id": "yYjClNkXASU7"
      },
      "source": [
        "5) Randomly pick a whole number between 1\n",
        "and 10. Ask the user to enter a number and\n",
        "keep entering numbers until they enter the\n",
        "number that was randomly picked.\n"
      ]
    },
    {
      "cell_type": "code",
      "metadata": {
        "id": "F1n7lrbdAV-q"
      },
      "source": [
        ""
      ],
      "execution_count": null,
      "outputs": []
    },
    {
      "cell_type": "markdown",
      "metadata": {
        "id": "7kPIuNKaAWSs"
      },
      "source": [
        "6) SKIP\n"
      ]
    },
    {
      "cell_type": "code",
      "metadata": {
        "id": "c0_SeYVtAZ0U"
      },
      "source": [
        ""
      ],
      "execution_count": null,
      "outputs": []
    },
    {
      "cell_type": "markdown",
      "metadata": {
        "id": "Y0prM0cNAaU4"
      },
      "source": [
        "7) Make a maths quiz that asks five questions by randomly\n",
        "generating two whole numbers to make the question\n",
        "(e.g. [num1] + [num2]). Ask the user to enter the\n",
        "answer. If they get it right add a point to their score. At\n",
        "the end of the quiz, tell them how many they got correct\n",
        "out of five.\n"
      ]
    },
    {
      "cell_type": "code",
      "metadata": {
        "id": "I9kaZ2fjAd0M"
      },
      "source": [
        ""
      ],
      "execution_count": null,
      "outputs": []
    },
    {
      "cell_type": "markdown",
      "metadata": {
        "id": "OU3DrSglAeTl"
      },
      "source": [
        "8) Display five colours and ask the user to pick one. If they\n",
        "pick the same as the program has chosen, say “Well\n",
        "done”, otherwise display a witty answer which involves\n",
        "the correct colour, e.g. “I bet you are GREEN with envy”\n",
        "or “You are probably feeling BLUE right now”. Ask\n",
        "them to guess again; if they have still not got it right,\n",
        "keep giving them the same clue and ask the user to\n",
        "enter a colour until they guess it correctly.\n",
        "\n"
      ]
    },
    {
      "cell_type": "code",
      "metadata": {
        "id": "G9JchcqRAhp1"
      },
      "source": [
        ""
      ],
      "execution_count": null,
      "outputs": []
    },
    {
      "cell_type": "markdown",
      "metadata": {
        "id": "G5Ro4NAhAiBg"
      },
      "source": [
        ""
      ]
    },
    {
      "cell_type": "markdown",
      "metadata": {
        "id": "gAWu6fNLAuLr"
      },
      "source": [
        "# Tuples, Lists & Dictionaries\n"
      ]
    },
    {
      "cell_type": "markdown",
      "metadata": {
        "id": "6HxNu5zAAzrY"
      },
      "source": [
        "1)\n",
        "Create a tuple containing the names of five countries and display the whole tuple. Ask\n",
        "the user to enter one of the countries that have been shown to them and then display\n",
        "the index number (i.e. position in the list) of that item in the tuple.\n"
      ]
    },
    {
      "cell_type": "code",
      "metadata": {
        "id": "_2xaZUYHA4Dq"
      },
      "source": [
        ""
      ],
      "execution_count": null,
      "outputs": []
    },
    {
      "cell_type": "markdown",
      "metadata": {
        "id": "zrAYEk7wA4c8"
      },
      "source": [
        "\n",
        "2) SKIP\n",
        "\n",
        "```\n",
        "\n"
      ]
    },
    {
      "cell_type": "code",
      "metadata": {
        "id": "V4oL_WyTA_MJ"
      },
      "source": [
        ""
      ],
      "execution_count": null,
      "outputs": []
    },
    {
      "cell_type": "markdown",
      "metadata": {
        "id": "lJka03I7A_qg"
      },
      "source": [
        "3) \n",
        "Create a list of two sports. Ask the\n",
        "user what their favourite sport is and\n",
        "add this to the end of the list. Sort the\n",
        "list and display it.\n"
      ]
    },
    {
      "cell_type": "code",
      "metadata": {
        "id": "PwjAsTbWBFBH"
      },
      "source": [
        ""
      ],
      "execution_count": null,
      "outputs": []
    },
    {
      "cell_type": "markdown",
      "metadata": {
        "id": "MoIECi3NBFdA"
      },
      "source": [
        "4) \n",
        "Create a list of six school subjects. Ask the user which of these\n",
        "subjects they don’t like. Delete the subject they have chosen from the\n",
        "list before you display the list again.\n"
      ]
    },
    {
      "cell_type": "code",
      "metadata": {
        "id": "X-DRXKfDBKX-"
      },
      "source": [
        ""
      ],
      "execution_count": null,
      "outputs": []
    },
    {
      "cell_type": "markdown",
      "metadata": {
        "id": "Ta_llW_tBK1n"
      },
      "source": [
        "5)\n",
        "Ask the user to\n",
        "enter four of their\n",
        "favourite foods\n",
        "and store them in\n",
        "a dictionary so\n",
        "that they are\n",
        "indexed with\n",
        "numbers starting\n",
        "from 1. Display\n",
        "the dictionary in\n",
        "full, showing the\n",
        "index number\n",
        "and the item. Ask\n",
        "them which they\n",
        "want to get rid of\n",
        "and remove it\n",
        "from the list. Sort\n",
        "the remaining\n",
        "data and display\n",
        "the dictionary.\n"
      ]
    },
    {
      "cell_type": "code",
      "metadata": {
        "id": "TqjlPT_ABOXL"
      },
      "source": [
        ""
      ],
      "execution_count": null,
      "outputs": []
    },
    {
      "cell_type": "markdown",
      "metadata": {
        "id": "oe3GOy-iBOvH"
      },
      "source": [
        "6)\n",
        "Enter a list of ten colours.\n",
        "Ask the user for a starting\n",
        "number between 0 and 4\n",
        "and an end number\n",
        "between 5 and 9. Display\n",
        "the list for those colours\n",
        "between the start and end\n",
        "numbers the user input.\n"
      ]
    },
    {
      "cell_type": "code",
      "metadata": {
        "id": "Fp_1wRvhBU5x"
      },
      "source": [
        ""
      ],
      "execution_count": null,
      "outputs": []
    },
    {
      "cell_type": "markdown",
      "metadata": {
        "id": "1QfclrtQBVlV"
      },
      "source": [
        "7)\n",
        "Create a list of four three-digit\n",
        "numbers. Display the list to the\n",
        "user, showing each item from\n",
        "the list on a separate line. Ask\n",
        "the user to enter a three-digit\n",
        "number. If the number they\n",
        "have typed in matches one in\n",
        "the list, display the position of\n",
        "that number in the list,\n",
        "otherwise display the message\n",
        "“That is not in the list”.\n"
      ]
    },
    {
      "cell_type": "code",
      "metadata": {
        "id": "1hsIM5N2BZX8"
      },
      "source": [
        ""
      ],
      "execution_count": null,
      "outputs": []
    },
    {
      "cell_type": "markdown",
      "metadata": {
        "id": "SLQAgeFUBZ5H"
      },
      "source": [
        "8) Ask the user to enter the names of three people they want to\n",
        "invite to a party and store them in a list. After they have entered\n",
        "all three names, ask them if they want to add another. If they do,\n",
        "allow them to add more names until they answer “no”. When\n",
        "they answer “no”, display how many people they have invited to\n",
        "the party.\n"
      ]
    },
    {
      "cell_type": "code",
      "metadata": {
        "id": "VlK4enhCBhnD"
      },
      "source": [
        ""
      ],
      "execution_count": null,
      "outputs": []
    },
    {
      "cell_type": "markdown",
      "metadata": {
        "id": "w02Cq-QcBsJc"
      },
      "source": [
        "SKIP\n"
      ]
    },
    {
      "cell_type": "code",
      "metadata": {
        "id": "bSN_SCrTB1JA"
      },
      "source": [
        ""
      ],
      "execution_count": null,
      "outputs": []
    },
    {
      "cell_type": "markdown",
      "metadata": {
        "id": "D651LmDWB1qu"
      },
      "source": [
        "10)\n",
        "Create a list containing the titles of\n",
        "four TV programmes and display\n",
        "them on separate lines. Ask the\n",
        "user to enter another show and a\n",
        "position they want it inserted into\n",
        "the list. Display the list again,\n",
        "showing all five TV programmes in\n",
        "their new positions.\n"
      ]
    },
    {
      "cell_type": "code",
      "metadata": {
        "id": "2N17lIvjB5K9"
      },
      "source": [
        ""
      ],
      "execution_count": null,
      "outputs": []
    },
    {
      "cell_type": "markdown",
      "metadata": {
        "id": "Glov1eV6B5mu"
      },
      "source": [
        "11) Create an empty list called “nums”.\n",
        "Ask the user to enter numbers.\n",
        "After each number is entered, add\n",
        "it to the end of the nums list and\n",
        "display the list. Once they have\n",
        "entered three numbers, ask them if\n",
        "they still want the last number they\n",
        "entered saved. If they say “no”,\n",
        "remove the last item from the list.\n",
        "Display the list of numbers."
      ]
    },
    {
      "cell_type": "code",
      "metadata": {
        "id": "Yk6X4gu7CO0x"
      },
      "source": [
        ""
      ],
      "execution_count": null,
      "outputs": []
    },
    {
      "cell_type": "markdown",
      "metadata": {
        "id": "jD8iLanKCPzS"
      },
      "source": [
        "# More string manipulation Challenges "
      ]
    },
    {
      "cell_type": "markdown",
      "metadata": {
        "id": "OZvo1ATLCcdT"
      },
      "source": [
        "1) \n",
        "Ask the user to enter their\n",
        "first name and then display\n",
        "the length of their first name.\n",
        "Then ask for their surname\n",
        "and display the length of\n",
        "their surname. Join their first\n",
        "name and surname together\n",
        "with a space between and\n",
        "display the result. Finally,\n",
        "display the length of their full\n",
        "name (including the space).\n"
      ]
    },
    {
      "cell_type": "code",
      "metadata": {
        "id": "NL-C5LlYChqs"
      },
      "source": [
        ""
      ],
      "execution_count": null,
      "outputs": []
    },
    {
      "cell_type": "markdown",
      "metadata": {
        "id": "jA1d3DeMCiN8"
      },
      "source": [
        "2)\n",
        "Ask the user to type in their favourite school subject.\n",
        "Display it with “-” after each letter, e.g. S-p-a-n-i-s-h-.\n"
      ]
    },
    {
      "cell_type": "code",
      "metadata": {
        "id": "MmTpSJmNCnDr"
      },
      "source": [
        ""
      ],
      "execution_count": null,
      "outputs": []
    },
    {
      "cell_type": "markdown",
      "metadata": {
        "id": "fT-bL9kGDB7M"
      },
      "source": [
        "3)\n",
        "Show the user a line of text from your favourite poem\n",
        "and ask for a starting and ending point. Display the\n",
        "characters between those two points.\n"
      ]
    },
    {
      "cell_type": "code",
      "metadata": {
        "id": "Tf07D-eZDERv"
      },
      "source": [
        ""
      ],
      "execution_count": null,
      "outputs": []
    },
    {
      "cell_type": "markdown",
      "metadata": {
        "id": "CMwH8ro7CndV"
      },
      "source": [
        "4)\n",
        "Ask the user to type in a word in upper case. If they\n",
        "type it in lower case, ask them to try again. Keep\n",
        "repeating this until they type in a message all in\n",
        "uppercase. "
      ]
    },
    {
      "cell_type": "code",
      "metadata": {
        "id": "bd2wn4sFC0OY"
      },
      "source": [
        ""
      ],
      "execution_count": null,
      "outputs": []
    },
    {
      "cell_type": "markdown",
      "metadata": {
        "id": "SecjLANJDII1"
      },
      "source": [
        "5)\n",
        "Ask the user to type in their\n",
        "postcode. Display the first\n",
        "two letters in uppercase. \n"
      ]
    },
    {
      "cell_type": "code",
      "metadata": {
        "id": "lZ4Vw8XaDVb2"
      },
      "source": [
        ""
      ],
      "execution_count": null,
      "outputs": []
    },
    {
      "cell_type": "markdown",
      "metadata": {
        "id": "gakWRmhcC0zQ"
      },
      "source": [
        "5)\n",
        "Ask the user to type in their name\n",
        "and then tell them how many vowels are in their names\n"
      ]
    },
    {
      "cell_type": "code",
      "metadata": {
        "id": "BdOc17c4CrD_"
      },
      "source": [
        ""
      ],
      "execution_count": null,
      "outputs": []
    },
    {
      "cell_type": "markdown",
      "metadata": {
        "id": "iBbjFrF6Crf7"
      },
      "source": [
        "6)\n",
        "Ask the user to enter a new password. Ask\n",
        "them to enter it again. If the two passwords\n",
        "match, display “Thank you”. If the letters are\n",
        "correct but in the wrong case, display the\n",
        "message “They must be in the same case”,\n",
        "otherwise display the message “Incorrect”.\n",
        "087\n",
        "Ask the user to type in a word and then\n",
        "display it backwards on separate lines. For\n",
        "instance, if they type in “Hello” it should\n",
        "display as shown below:"
      ]
    },
    {
      "cell_type": "code",
      "metadata": {
        "id": "smQFm96FDZjT"
      },
      "source": [
        ""
      ],
      "execution_count": null,
      "outputs": []
    },
    {
      "cell_type": "markdown",
      "metadata": {
        "id": "DZ7nOmqdDctz"
      },
      "source": [
        "7) Ask the user to type in a word and then\n",
        "display it backwards on separate lines. For\n",
        "instance, if they type in “Hello” it should\n",
        "display as shown below:\n",
        "Enter a word: Hello\n",
        "o\n",
        "l\n",
        "l\n",
        "e\n",
        "H\n",
        ">>> "
      ]
    },
    {
      "cell_type": "code",
      "metadata": {
        "id": "Cqm1mXhKD6Ip"
      },
      "source": [
        ""
      ],
      "execution_count": null,
      "outputs": []
    },
    {
      "cell_type": "markdown",
      "metadata": {
        "id": "VelemPkwVu98"
      },
      "source": [
        "Questions from \"Python By Example\""
      ]
    }
  ]
}