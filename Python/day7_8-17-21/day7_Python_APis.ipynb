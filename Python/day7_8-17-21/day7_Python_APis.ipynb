{
  "nbformat": 4,
  "nbformat_minor": 0,
  "metadata": {
    "colab": {
      "name": "day7_Python_APis.ipynb",
      "provenance": []
    },
    "kernelspec": {
      "name": "python3",
      "display_name": "Python 3"
    },
    "language_info": {
      "name": "python"
    }
  },
  "cells": [
    {
      "cell_type": "markdown",
      "metadata": {
        "id": "RX4u5QN8we1z"
      },
      "source": [
        "<img src=\"https://i.imgur.com/X9R3e67.png\" style=\"float: left; margin: 20px; height: 55px\">\n",
        "\n",
        "#Understanding the Internet, HTTP and APIs\n",
        "\n",
        "\n",
        "###Learning Objectives\n",
        "\n",
        "By the end of this class we should all be able to answer the following questions:\n",
        "\n",
        "1. What is the internet and how did it come about?\n",
        "2. What is the World Wide Web?\n",
        "3. What is HTTP? What is the request and response cycle? What is HTML and how does it work with Javascript and CSS to produce functional websites.\n",
        "> Additional study recommended on HTML \n",
        "4. What happens when one accesses a website?\n",
        "5. What are the main response codes and what do they mean? \n",
        "6. How can we send a request to a URL using the command line and GUI tools?\n",
        "\n",
        "You are encouraged to take one of these topics and write a blog post on it. "
      ]
    },
    {
      "cell_type": "markdown",
      "metadata": {
        "id": "U-ii1ZMhmXHq"
      },
      "source": [
        "#What Is the Internet Even? \n",
        "- Started in '60s as US military funded research (DARPA) and in the 80's became accessible to the public esp. in universities and companies\n",
        "- A network of networks\n",
        "- Packets sent to and fro IP addresses over cables assisted by routers and switches\n",
        "\n",
        "<image src=\"https://assets.weforum.org/wp-content/uploads/2015/11/151104-submarine-cables-internet-world-map.png\">\n",
        "\n",
        "#Who invented the Internet?\n",
        "Important figures;\n",
        "1. Robert W. Taylor led the development of the ARPANET (an early prototype of the Internet),  \n",
        "2. Vinton Cerf and Robert Kahn developed Transmission Control Protocol/Internet Protocol (TCP/IP)\n",
        "3. HTTP is a protocol created by Tim Berners Lee"
      ]
    },
    {
      "cell_type": "markdown",
      "metadata": {
        "id": "15U8AGvHqV_V"
      },
      "source": [
        "Visualizing the internet as a network of networks: https://developer.mozilla.org/en-US/docs/Learn/Common_questions/ \n"
      ]
    },
    {
      "cell_type": "markdown",
      "metadata": {
        "id": "GRHry_A43fbW"
      },
      "source": [
        "#What is the world wide web?\n",
        "\n"
      ]
    },
    {
      "cell_type": "markdown",
      "metadata": {
        "id": "aZ57CGZc5Ug-"
      },
      "source": [
        "#What's HTTP?\n",
        "Hypertext Transfer Protocol (HTTP) is an application-layer protocol for transmitting hypermedia documents, such as HTML. It was designed for communication between web browsers and web servers.\n"
      ]
    },
    {
      "cell_type": "markdown",
      "metadata": {
        "id": "0VB8WNQiccf7"
      },
      "source": [
        "#What happens when we load a website?\n",
        "\n",
        "https://wsvincent.com/what-happens-when-url/\n",
        "\n",
        "\n",
        "1. You enter a URL into a web browser\n",
        "2. The browser looks up the IP address for the domain name via DNS\n",
        "3. The browser sends a HTTP request to the server\n",
        "4. The server sends back a HTTP response\n",
        "5. The browser begins rendering the HTML\n",
        "6. The browser sends requests for additional objects embedded in HTML (images, css, JavaScript) and repeats steps 3-5.\n",
        "Once the page is loaded, the browser sends further async requests as needed.\n",
        "\n",
        "Another great response below:\n",
        "https://developer.mozilla.org/en-US/docs/Learn/Getting_started_with_the_web/How_the_Web_works \n",
        "\n",
        "This article well help you understand **Domain Name System**: https://scotch.io/tutorials/dns-explained-how-your-browser-finds-websites\n",
        "\n",
        "Now go write your own blog post distilling what you've learned!"
      ]
    },
    {
      "cell_type": "markdown",
      "metadata": {
        "id": "nkuMhqAWjo_j"
      },
      "source": [
        "#Anatomy of a Request\n",
        "\n",
        "https://developer.mozilla.org/en-US/docs/Web/HTTP/Messages\n",
        "\n",
        "1. HTTP Method \n",
        "- Create - POST\n",
        "- Read - GET\n",
        "- Update - PUT \n",
        "- Delete  - DELETE\n",
        "\n",
        "2. Request target/URL \n",
        "\n",
        "3. Header \n",
        "\n",
        "#Anatomy of a Response\n",
        "\n",
        "1. Status Code\n",
        "2. Headers\n",
        "3. Body"
      ]
    },
    {
      "cell_type": "markdown",
      "metadata": {
        "id": "Or9q9jp__aOT"
      },
      "source": [
        "# Server Status Codes\n",
        "HTTP response status codes indicate whether a specific HTTP request has been successfully completed. Responses are grouped in five classes:"
      ]
    },
    {
      "cell_type": "markdown",
      "metadata": {
        "id": "Gg4BKtOR_qcT"
      },
      "source": [
        "\n",
        "\n",
        "*   Informational responses (100–199)\n",
        "* Successful responses (200–299)\n",
        "* Redirects (300–399)\n",
        "* Client errors (400–499)\n",
        "* Server errors (500–599)List item\n",
        "Source - (MDN Web Docs)\n",
        "\n",
        "\n"
      ]
    },
    {
      "cell_type": "markdown",
      "metadata": {
        "id": "elmj_BrG_4GD"
      },
      "source": [
        "#Information Responses \n",
        "**100 Continue**\n",
        "\n",
        "This interim response indicates that everything so far is OK and that the client should continue the request, or ignore the response if the request is already finished.\n",
        "Source (MDN Web Docs)"
      ]
    },
    {
      "cell_type": "markdown",
      "metadata": {
        "id": "pruPYld_ANSw"
      },
      "source": [
        "**101 Switching Protocol**\n",
        "This code is sent in response to an Upgrade request header from the client, and indicates the protocol the server is switching to.\n",
        "\n"
      ]
    },
    {
      "cell_type": "markdown",
      "metadata": {
        "id": "v_LCSxTmAWFC"
      },
      "source": [
        "**102 Processing (WebDAV)**\n",
        "This code indicates that the server has received and is processing the request, but no response is available yet.\n",
        "\n"
      ]
    },
    {
      "cell_type": "markdown",
      "metadata": {
        "id": "yggzMFYZAawb"
      },
      "source": [
        "**103 Early Hints**\n",
        "This status code is primarily intended to be used with the Link header, letting the user agent start preloading resources while the server prepares a response."
      ]
    },
    {
      "cell_type": "markdown",
      "metadata": {
        "id": "xRSKKZY0AfRK"
      },
      "source": [
        "#Successful Responses\n",
        "**200 OK**\n",
        "The meaning of the success depends on the HTTP method:\n",
        "\n",
        "* GET: The resource has been fetched and is transmitted in the message body.\n",
        "* HEAD: The representation headers are included in the response without any message body.\n",
        "* PUT or POST: The resource describing the result of the action is transmitted in the message body.\n",
        "* TRACE: The message body contains the request message as received by the server."
      ]
    },
    {
      "cell_type": "markdown",
      "metadata": {
        "id": "Hv0DlcJMBq6N"
      },
      "source": [
        "#Server Error Responses\n",
        "**500 Internal Server Error**\n",
        "The server has encountered a situation it doesn't know how to handle.\n",
        "\n"
      ]
    },
    {
      "cell_type": "markdown",
      "metadata": {
        "id": "N-LMEGqvBus4"
      },
      "source": [
        "**501 Not Implemented**\n",
        "The request method is not supported by the server and cannot be handled. The only methods that servers are required to support (and therefore that must not return this code) are GET and HEAD.\n",
        "\n",
        "\n"
      ]
    },
    {
      "cell_type": "markdown",
      "metadata": {
        "id": "0cU9bLsuBxWw"
      },
      "source": [
        "**502 Bad Gateway**\n",
        "This error response means that the server, while working as a gateway to get a response needed to handle the request, got an invalid response."
      ]
    },
    {
      "cell_type": "markdown",
      "metadata": {
        "id": "oGrThHM2afit"
      },
      "source": [
        "#Let's send a request to a server using cURL"
      ]
    },
    {
      "cell_type": "code",
      "metadata": {
        "colab": {
          "base_uri": "https://localhost:8080/"
        },
        "id": "kZm8NWUULJwX",
        "outputId": "46656fab-4e71-41a6-d51a-56f54f10eeec"
      },
      "source": [
        "brew install curl #Do this on your machine. I use brew but use whichever package manager you prefer"
      ],
      "execution_count": null,
      "outputs": [
        {
          "output_type": "stream",
          "text": [
            "/bin/bash: brew: command not found\n"
          ],
          "name": "stdout"
        }
      ]
    },
    {
      "cell_type": "code",
      "metadata": {
        "id": "YYWu1KDRKwuR"
      },
      "source": [
        "curl https://jsonplaceholder.typicode.com/users #Curl takes in a "
      ],
      "execution_count": null,
      "outputs": []
    },
    {
      "cell_type": "code",
      "metadata": {
        "colab": {
          "base_uri": "https://localhost:8080/",
          "height": 132
        },
        "id": "hnV_A46zKycn",
        "outputId": "d3b24d23-18a8-40ef-d745-14d0e062420b"
      },
      "source": [
        "curl -v https://jsonplaceholder.typicode.com/users #The -v flag for verbose gives us a more detailed response that includes the header as well as the server status code"
      ],
      "execution_count": null,
      "outputs": [
        {
          "output_type": "error",
          "ename": "SyntaxError",
          "evalue": "ignored",
          "traceback": [
            "\u001b[0;36m  File \u001b[0;32m\"<ipython-input-1-295de31905c3>\"\u001b[0;36m, line \u001b[0;32m1\u001b[0m\n\u001b[0;31m    curl -v https://jsonplaceholder.typicode.com/users\u001b[0m\n\u001b[0m                ^\u001b[0m\n\u001b[0;31mSyntaxError\u001b[0m\u001b[0;31m:\u001b[0m invalid syntax\n"
          ]
        }
      ]
    },
    {
      "cell_type": "markdown",
      "metadata": {
        "id": "bjHuDqcJa9fz"
      },
      "source": [
        "#Postman\n",
        "\n",
        "Postman is a great tool for analyzing the responses you get from websites. We'll go into more about how it is used practically soon.\n",
        "\n",
        "- [DownloadPostman](https://www.postman.com)\n",
        "- [See the docs here](https://learning.postman.com/docs/getting-started/introduction/)\n",
        "\n"
      ]
    },
    {
      "cell_type": "markdown",
      "metadata": {
        "id": "IjNHbTYnmSDP"
      },
      "source": [
        "#What is an API?\n",
        "API is the acronym for Application Programming Interface. \n",
        "An API is a connection between two applications that allows the one application to access the services of another. "
      ]
    },
    {
      "cell_type": "markdown",
      "metadata": {
        "id": "6OJec-uly8ds"
      },
      "source": [
        "# Examples of API (Class contribution)"
      ]
    },
    {
      "cell_type": "markdown",
      "metadata": {
        "id": "qVZTlDcp7jAh"
      },
      "source": [
        "#What is a REST API?\n",
        "REST stands for Representational State Transfer, a term coined by Roy Fielding in 2000.\n",
        "- Stateless\n",
        "- Support HTTP methods\n",
        "- URL endpoints\n",
        "- Return JSON/XML\n",
        "\n"
      ]
    }
  ]
}