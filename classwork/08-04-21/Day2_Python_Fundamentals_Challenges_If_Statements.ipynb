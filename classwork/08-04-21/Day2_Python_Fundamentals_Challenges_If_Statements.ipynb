{
  "nbformat": 4,
  "nbformat_minor": 2,
  "metadata": {
    "colab": {
      "name": "Day2_Python_Challenges_Fundamentals_If_Statements_Kura.ipynb",
      "provenance": [],
      "collapsed_sections": []
    },
    "kernelspec": {
      "name": "python3",
      "display_name": "Python 3.9.2 64-bit"
    },
    "language_info": {
      "name": "python",
      "version": "3.9.2",
      "mimetype": "text/x-python",
      "codemirror_mode": {
        "name": "ipython",
        "version": 3
      },
      "pygments_lexer": "ipython3",
      "nbconvert_exporter": "python",
      "file_extension": ".py"
    },
    "interpreter": {
      "hash": "a52f251b682d8835a3d48e5528dd8a9e5772f2df652d4d86638ea6503f91cfa6"
    }
  },
  "cells": [
    {
      "cell_type": "markdown",
      "source": [
        "**Class Challenges (Set One)** **Fundamentals **"
      ],
      "metadata": {
        "id": "EHZJTFE_36Gp"
      }
    },
    {
      "cell_type": "markdown",
      "source": [
        "1)\n",
        "Ask for the user’s first name and display the output message\n",
        "Hello [First Name] .\n",
        "\n"
      ],
      "metadata": {
        "id": "bktzR4Z94AIu"
      }
    },
    {
      "cell_type": "code",
      "execution_count": 1,
      "source": [
        "first_name = input(\"What is your first name?\")\r\n",
        "print(f\"Hello, {first_name}\")"
      ],
      "outputs": [
        {
          "output_type": "stream",
          "name": "stdout",
          "text": [
            "Hello, Ricardo\n"
          ]
        }
      ],
      "metadata": {
        "id": "D1zL4j785bH8"
      }
    },
    {
      "cell_type": "markdown",
      "source": [
        "2)\n",
        "Ask for the user’s first name and then ask for their surname and display the output message\n",
        "Hello [First Name] [Surname].\n",
        "\n",
        "\n",
        "\n",
        "\n",
        "\n",
        "\n",
        "\n",
        "\n"
      ],
      "metadata": {
        "id": "P7iZQrUL4QpW"
      }
    },
    {
      "cell_type": "code",
      "execution_count": null,
      "source": [
        "user_first_name = input(\"What is your first name? \")\r\n",
        "user_surname_name = input(\"What is your surname(last) name? \")\r\n",
        "print(f\"Hello {user_first_name} {user_surname_name}\")"
      ],
      "outputs": [],
      "metadata": {
        "id": "V8luoi1c5dG7"
      }
    },
    {
      "cell_type": "markdown",
      "source": [
        "3)\n",
        "Write code that will display the joke “What do you call a bear with no teeth?” and on the next line display the answer “A gummy bear!” Try to create it using only one line of code.\n",
        "\n"
      ],
      "metadata": {
        "id": "LUmlLu2v4gp2"
      }
    },
    {
      "cell_type": "code",
      "execution_count": 2,
      "source": [
        "print(f\"What do you call a bear with no teeth? \\nA gummy bear!\")"
      ],
      "outputs": [
        {
          "output_type": "stream",
          "name": "stdout",
          "text": [
            "What do you call a bear with no teeth? \n",
            "A gummy bear!\n"
          ]
        }
      ],
      "metadata": {
        "id": "qU6oaxlK5emZ"
      }
    },
    {
      "cell_type": "markdown",
      "source": [
        "4)\n",
        "Ask the user to enter two numbers. \n",
        "Add them together and display the answer as\n",
        "The total is [answer].\n",
        "\n"
      ],
      "metadata": {
        "id": "jwD8SJa54nAM"
      }
    },
    {
      "cell_type": "code",
      "execution_count": 4,
      "source": [
        "first_number = int(input(\"Please enter the first number \"))\r\n",
        "second_number = int(input(\"Please enter the second number \"))\r\n",
        "## total = first_number + second_number\r\n",
        "print(f\"The total is {first_number + second_number}\")"
      ],
      "outputs": [
        {
          "output_type": "stream",
          "name": "stdout",
          "text": [
            "The total is 30\n"
          ]
        }
      ],
      "metadata": {
        "id": "nLAQQCD15fAg"
      }
    },
    {
      "cell_type": "markdown",
      "source": [
        "5)\n",
        "Ask the user to enter three numbers. \n",
        "Add together the first two numbers and then multiply this total by the third. \n",
        "Display the answer as The answer is\n",
        "[answer].\n",
        "\n",
        "\n"
      ],
      "metadata": {
        "id": "1E7CC19l4rb5"
      }
    },
    {
      "cell_type": "code",
      "execution_count": null,
      "source": [
        "first_number = int(input(\"Please enter the first number \"))\r\n",
        "second_number = int(input(\"Please enter the second number \"))\r\n",
        "third_number = int(input(\"Please enter the third number \"))\r\n",
        "\r\n",
        "print(f\"The answer is {(first_number + second_number) * third_number}\")"
      ],
      "outputs": [],
      "metadata": {
        "id": "fBWCQ3FY5uVo"
      }
    },
    {
      "cell_type": "markdown",
      "source": [
        "6) \n",
        "Ask how many slices of pizza the user started with and ask how many slices\n",
        "they have eaten.\n",
        "Work out how many slices they have left and display the answer in a user friendly\n",
        "format.\n",
        "\n"
      ],
      "metadata": {
        "id": "oEQpSy3Y40ML"
      }
    },
    {
      "cell_type": "code",
      "execution_count": null,
      "source": [
        "starer = int(input(\"How many slices of pizza did you start with? \"))\r\n",
        "ate = int(input(\"How many slices of pizza have you ate so far? \"))\r\n",
        "print(f\"There is a total of {starer - ate} slices of pizza left!!\")"
      ],
      "outputs": [],
      "metadata": {
        "id": "6AAC55oy5roU"
      }
    },
    {
      "cell_type": "markdown",
      "source": [
        "7)\n",
        "Ask the user for their name and their age. \n",
        "Add 1 to their age and display the output [Name] next birthday you\n",
        "will be [new age].\n",
        "\n"
      ],
      "metadata": {
        "id": "db2fa_SS46yT"
      }
    },
    {
      "cell_type": "code",
      "execution_count": null,
      "source": [
        "user_name = input(\"Please enter your name \")\r\n",
        "user_age = int(input(\"How old are you? \"))\r\n",
        "\r\n",
        "print(f\"{user_name} next birthday you will be {user_age + 1}\")"
      ],
      "outputs": [],
      "metadata": {
        "id": "Hy--PVwx5m_8"
      }
    },
    {
      "cell_type": "markdown",
      "source": [
        "8) \n",
        "Ask for the total price of the bill, then ask how many diners there are. \n",
        "Divide the total bill by the number of diners and show how much each\n",
        "a person must pay.\n",
        "\n"
      ],
      "metadata": {
        "id": "wK4e2WBH5AMy"
      }
    },
    {
      "cell_type": "code",
      "execution_count": null,
      "source": [
        "total_price = float(input(\"How much was the bill? \"))\r\n",
        "total_diners = int(input(\"How many people were eating? \"))\r\n",
        "print(f\"Each person must pay ${total_price / total_diners}\")"
      ],
      "outputs": [],
      "metadata": {
        "id": "3tI9k_bL5oCS"
      }
    },
    {
      "cell_type": "markdown",
      "source": [
        "9)\n",
        "Write a program that will ask for a number of days and then will show how many hours, minutes and seconds are in that number of days.\n",
        "\n"
      ],
      "metadata": {
        "id": "ZQBlnJm45DaL"
      }
    },
    {
      "cell_type": "code",
      "execution_count": null,
      "source": [
        "number_of_days = int(input(\"How many days would you like to convert? \"))\r\n",
        "hours = number_of_days * 24\r\n",
        "minutes = hours * 60\r\n",
        "seconds = minutes * 60\r\n",
        "\r\n",
        "print(\r\n",
        "    f\"There are {hours} hours, {minutes} minutes, and {seconds} seconds in {number_of_days}days\"\r\n",
        ")"
      ],
      "outputs": [],
      "metadata": {
        "id": "w01EtoO85pBm"
      }
    },
    {
      "cell_type": "markdown",
      "source": [
        "10)\n",
        "There are 2,204 pounds in a kilogram. Ask the user to enter a weight in kilograms and convert it to pounds.\n",
        "\n"
      ],
      "metadata": {
        "id": "5EOuJ5W75GF_"
      }
    },
    {
      "cell_type": "code",
      "execution_count": null,
      "source": [
        "user_weight = int(input(\"How much kilograms do you weight? \"))\r\n",
        "converted_weight = user_weight / 0.45359237\r\n",
        "print(f\"You weight {converted_weight} lbs\")"
      ],
      "outputs": [],
      "metadata": {
        "id": "nz73-SQM5ou1"
      }
    },
    {
      "cell_type": "markdown",
      "source": [
        "11) \n",
        "Task the user to enter a number over 100 and then enter a number under 10 and tell them how many times the smaller number goes into the larger number in a user-friendly format.\n"
      ],
      "metadata": {
        "id": "km3HSOtk5N5B"
      }
    },
    {
      "cell_type": "code",
      "execution_count": 5,
      "source": [
        "# import random\r\n",
        "\r\n",
        "# user_number = int(input(\"Please enter a number greater than 100: \"))\r\n",
        "# random_number = random.randint(1, 10)\r\n",
        "\r\n",
        "# print(\r\n",
        "#     f\"The smaller number:{random_number} goes into the larger number:{user_number} approximately {user_number/random_number} times! \"\r\n",
        "# )\r\n",
        "\r\n",
        "\r\n",
        "user_large_number = int(input(\"Please enter a number over 100: \"))\r\n",
        "user_small_number = int(input(\"Please enter a number under 10: \"))\r\n",
        "print(\r\n",
        "    f\"The smaller number:{user_small_number} goes into the larger number:{user_large_number} approximately {user_large_number/user_small_number} times! \"\r\n",
        ")"
      ],
      "outputs": [
        {
          "output_type": "stream",
          "name": "stdout",
          "text": [
            "The smaller number:5 goes into the larger number:101 approximately 20.2 times! \n"
          ]
        }
      ],
      "metadata": {
        "id": "sPempIqj5i79"
      }
    },
    {
      "cell_type": "markdown",
      "source": [
        "# Class Challenge (Set 2) If Statements \n"
      ],
      "metadata": {
        "id": "UydxzJKq5-Li"
      }
    },
    {
      "cell_type": "markdown",
      "source": [
        "1)\n",
        "Ask for two numbers. If\n",
        "the first one is larger\n",
        "than the second, display\n",
        "the second number first\n",
        "and then the first\n",
        "number, otherwise show\n",
        "the first number first and\n",
        "then the second.\n"
      ],
      "metadata": {
        "id": "SfQmyzbC6K3o"
      }
    },
    {
      "cell_type": "markdown",
      "source": [
        "2) Ask the user to enter a\n",
        "number that is under 20. If they enter a\n",
        "number that is \n",
        "20 or\n",
        "more, display the\n",
        "message “Too high”,\n",
        "otherwise display\n",
        "“Thank you”.\n"
      ],
      "metadata": {
        "id": "LWbTEnIK6fed"
      }
    },
    {
      "cell_type": "markdown",
      "source": [
        "3) Ask the user to enter a\n",
        "number between 10 and 20\n",
        "(inclusive). If they enter a\n",
        "number within this range,\n",
        "display the message “Thank\n",
        "you”, otherwise display the\n",
        "message “Incorrect answer\"\n"
      ],
      "metadata": {
        "id": "gBy4pbDr6rB2"
      }
    },
    {
      "cell_type": "markdown",
      "source": [
        "4) Ask the user to enter their favourite colour. If they enter “red”, “RED” or\n",
        "“Red” display the message “I like red too”, otherwise display the message\n",
        "“I don’t like [colour], I prefer red”.\n"
      ],
      "metadata": {
        "id": "x5ujUqCI6vr4"
      }
    },
    {
      "cell_type": "markdown",
      "source": [
        "5) Ask the user if it is raining and convert their answer to lower case\n",
        "so it doesn’t matter what case they type it in. If they answer “yes”,\n",
        "ask if it is windy. If they answer “yes” to this second question,\n",
        "display the answer “It is too windy for an umbrella”, otherwise\n",
        "display the message “Take an umbrella”. If they did not answer yes\n",
        "to the first question, display the answer “Enjoy your day”.\n"
      ],
      "metadata": {
        "id": "G3ITFYxc62_r"
      }
    },
    {
      "cell_type": "markdown",
      "source": [
        "6) Ask the user’s age. If they\n",
        "are 18 or over, display the\n",
        "message “You can vote”, if\n",
        "they are aged 17, display the\n",
        "message “You can learn to\n",
        "drive”, if they are 16, display\n",
        "the message “You can buy a\n",
        "lottery ticket”, if they are\n",
        "under 16, display the\n",
        "message “You can go Trickor-\n",
        "Treating”.\n"
      ],
      "metadata": {
        "id": "-WF-0xkM676x"
      }
    },
    {
      "cell_type": "markdown",
      "source": [
        "7) Ask the user to enter a number. If it is under 10,\n",
        "display the message “Too low”, if their number is\n",
        "between 10 and 20, display “Correct”, otherwise\n",
        "display “Too high”.\n"
      ],
      "metadata": {
        "id": "ipS-yOG57Bif"
      }
    },
    {
      "cell_type": "markdown",
      "source": [
        "8) Ask the user to enter 1, 2 or 3. If they enter a 1, display\n",
        "the message “Thank you”, if they enter a 2, display\n",
        "“Well done”, if they enter a 3, display “Correct”. If\n",
        "they enter anything else, display “Error message”.\n",
        "\n"
      ],
      "metadata": {
        "id": "ETj9m6px7Ihf"
      }
    },
    {
      "cell_type": "markdown",
      "source": [
        "9) Ask the user to enter 1, 2 or 3. If they enter a 1, display\n",
        "the message “Thank you”, if they enter a 2, display\n",
        "“Well done”, if they enter a 3, display “Correct”. If\n",
        "they enter anything else, display “Error message”."
      ],
      "metadata": {
        "id": "9zPCMAic7X4p"
      }
    }
  ]
}