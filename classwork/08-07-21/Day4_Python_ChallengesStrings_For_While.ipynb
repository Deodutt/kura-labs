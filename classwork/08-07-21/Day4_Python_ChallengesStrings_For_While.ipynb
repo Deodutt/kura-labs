{
  "nbformat": 4,
  "nbformat_minor": 2,
  "metadata": {
    "colab": {
      "name": "Day4_ChallengesStrings_For_While_Kura.ipynb",
      "provenance": []
    },
    "kernelspec": {
      "name": "python3",
      "display_name": "Python 3.9.2 64-bit"
    },
    "language_info": {
      "name": "python",
      "version": "3.9.2",
      "mimetype": "text/x-python",
      "codemirror_mode": {
        "name": "ipython",
        "version": 3
      },
      "pygments_lexer": "ipython3",
      "nbconvert_exporter": "python",
      "file_extension": ".py"
    },
    "interpreter": {
      "hash": "a52f251b682d8835a3d48e5528dd8a9e5772f2df652d4d86638ea6503f91cfa6"
    }
  },
  "cells": [
    {
      "cell_type": "markdown",
      "source": [
        "# (Strings) "
      ],
      "metadata": {
        "id": "uMMO_PFq7-_z"
      }
    },
    {
      "cell_type": "markdown",
      "source": [
        "1)Ask the user to enter\n",
        "their first name and\n",
        "then display the\n",
        "length of their name.\n"
      ],
      "metadata": {
        "id": "a6QxzxLF8GfB"
      }
    },
    {
      "cell_type": "code",
      "execution_count": null,
      "source": [],
      "outputs": [],
      "metadata": {
        "id": "x4jsKT5_8Jvk"
      }
    },
    {
      "cell_type": "markdown",
      "source": [
        "2) Ask the user to enter their first name and then ask them to\n",
        "enter their surname. Join them together with a space between\n",
        "and display the name and the length of whole name.\n"
      ],
      "metadata": {
        "id": "2b0Bhr198Lwc"
      }
    },
    {
      "cell_type": "code",
      "execution_count": null,
      "source": [],
      "outputs": [],
      "metadata": {
        "id": "8nzVdBEk8R9a"
      }
    },
    {
      "cell_type": "markdown",
      "source": [
        "3) Ask the user to enter their first name and surname in lower\n",
        "case. Change the case to title case and join them together.\n",
        "Display the finished result.\n"
      ],
      "metadata": {
        "id": "r5fbTIHe8Smi"
      }
    },
    {
      "cell_type": "code",
      "execution_count": null,
      "source": [],
      "outputs": [],
      "metadata": {
        "id": "otyIwskv8ZSJ"
      }
    },
    {
      "cell_type": "markdown",
      "source": [
        "4) Ask the user to type in the first\n",
        "line of a nursery rhyme and\n",
        "display the length of the string.\n",
        "Ask for a starting number and an\n",
        "ending number and then display\n",
        "just that section of the text (remember Python starts\n",
        "counting from 0 and not 1).\n",
        "\n"
      ],
      "metadata": {
        "id": "skPjvNmy8aiq"
      }
    },
    {
      "cell_type": "code",
      "execution_count": null,
      "source": [],
      "outputs": [],
      "metadata": {
        "id": "sI4AE8QX8jmN"
      }
    },
    {
      "cell_type": "markdown",
      "source": [
        "5) Ask the user to type in any word and display it in\n",
        "upper case.\n"
      ],
      "metadata": {
        "id": "uMYtwzza8kYB"
      }
    },
    {
      "cell_type": "code",
      "execution_count": null,
      "source": [],
      "outputs": [],
      "metadata": {
        "id": "Tb4Fdnwx8tOT"
      }
    },
    {
      "cell_type": "markdown",
      "source": [
        "6) Ask the user to enter their first name. If the length\n",
        "of their first name is under five characters, ask\n",
        "them to enter their surname and join them\n",
        "together (without a space) and display the name\n",
        "in upper case. If the length of the first name is five\n",
        "or more characters, display their first name in\n",
        "lower case.\n"
      ],
      "metadata": {
        "id": "j_n30Whh8uQm"
      }
    },
    {
      "cell_type": "code",
      "execution_count": null,
      "source": [],
      "outputs": [],
      "metadata": {
        "id": "yAMcHlAR8yjG"
      }
    },
    {
      "cell_type": "markdown",
      "source": [
        "7) Pig Latin takes the first consonant of a word,\n",
        "moves it to the end of the word and adds on an\n",
        "“ay”. If a word begins with a vowel you just add\n",
        "“way” to the end. For example, pig becomes igpay,\n",
        "banana becomes ananabay, and aadvark becomes\n",
        "aadvarkway. Create a program that will ask the\n",
        "user to enter a word and change it into Pig Latin.\n",
        "Make sure the new word is displayed in lower case.\n",
        "\n"
      ],
      "metadata": {
        "id": "AP3TVcO_8zpi"
      }
    },
    {
      "cell_type": "code",
      "execution_count": null,
      "source": [],
      "outputs": [],
      "metadata": {
        "id": "gCi49b-_83dP"
      }
    },
    {
      "cell_type": "markdown",
      "source": [],
      "metadata": {
        "id": "1uGZ2rA59Qi1"
      }
    },
    {
      "cell_type": "markdown",
      "source": [
        "# Challenges (For Loop)"
      ],
      "metadata": {
        "id": "a1d-f1G79RSK"
      }
    },
    {
      "cell_type": "markdown",
      "source": [
        "1) Ask the user to enter\n",
        "their name and then\n",
        "display their name\n",
        "three times.\n"
      ],
      "metadata": {
        "id": "S0cNQhdK9XNb"
      }
    },
    {
      "cell_type": "code",
      "execution_count": null,
      "source": [],
      "outputs": [],
      "metadata": {
        "id": "jcOmAo_Z9cHk"
      }
    },
    {
      "cell_type": "markdown",
      "source": [
        "2) Alter program 035 so that it will ask the user to enter their\n",
        "name and a number and then display their name that\n",
        "number of times.\n"
      ],
      "metadata": {
        "id": "IDDqyspV9ckZ"
      }
    },
    {
      "cell_type": "code",
      "execution_count": null,
      "source": [],
      "outputs": [],
      "metadata": {
        "id": "SHShsVrS9gLX"
      }
    },
    {
      "cell_type": "markdown",
      "source": [
        "3) Ask the user to enter their name and display each letter in\n",
        "their name on a separate line.\n"
      ],
      "metadata": {
        "id": "w3O4Lthx9gon"
      }
    },
    {
      "cell_type": "code",
      "execution_count": null,
      "source": [],
      "outputs": [],
      "metadata": {
        "id": "P84GraBE9klR"
      }
    },
    {
      "cell_type": "markdown",
      "source": [
        "4) SKIP\n",
        "\n"
      ],
      "metadata": {
        "id": "5VuqEWpX9lRY"
      }
    },
    {
      "cell_type": "code",
      "execution_count": null,
      "source": [],
      "outputs": [],
      "metadata": {
        "id": "waNDmguo9pdp"
      }
    },
    {
      "cell_type": "markdown",
      "source": [
        "5) Ask the user to enter a number between 1\n",
        "and 12 and then display the times table for\n",
        "that number.\n"
      ],
      "metadata": {
        "id": "gSID1rO69qZN"
      }
    },
    {
      "cell_type": "code",
      "execution_count": null,
      "source": [],
      "outputs": [],
      "metadata": {
        "id": "007lMZ_k9uCg"
      }
    },
    {
      "cell_type": "markdown",
      "source": [
        "6) Ask for a number below 50 and then count down from\n",
        "50 to that number, making sure you show the number\n",
        "they entered in the output.\n"
      ],
      "metadata": {
        "id": "x_z9Jhn59ues"
      }
    },
    {
      "cell_type": "code",
      "execution_count": null,
      "source": [],
      "outputs": [],
      "metadata": {
        "id": "g5X_aqiE9yWv"
      }
    },
    {
      "cell_type": "markdown",
      "source": [
        "7) Ask the user to enter their\n",
        "name and a number. If the\n",
        "number is less than 10, then\n",
        "display their name that\n",
        "number of times; otherwise\n",
        "display the message “Too\n",
        "high” three times.\n"
      ],
      "metadata": {
        "id": "BTkpGqeI9ytV"
      }
    },
    {
      "cell_type": "code",
      "execution_count": null,
      "source": [],
      "outputs": [],
      "metadata": {
        "id": "jOsfv-C0930M"
      }
    },
    {
      "cell_type": "markdown",
      "source": [
        "8) Set a variable called total to 0. Ask the user to enter\n",
        "five numbers and after each input ask them if they\n",
        "want that number included. If they do, then add the\n",
        "number to the total. If they do not want it included,\n",
        "don’t add it to the total. After they have entered all five\n",
        "numbers, display the total.\n"
      ],
      "metadata": {
        "id": "YtI9yexL94Uo"
      }
    },
    {
      "cell_type": "code",
      "execution_count": null,
      "source": [],
      "outputs": [],
      "metadata": {
        "id": "YzYkdiFC97RE"
      }
    },
    {
      "cell_type": "markdown",
      "source": [
        "9) Ask which direction the user wants to count (up or down). If they select up, then ask\n",
        "them for the top number and then count from 1 to that number. If they select down, ask\n",
        "them to enter a number below 20 and then count down from 20 to that number. If they\n",
        "entered something other than up or down, display the message “I don’t understand”.\n"
      ],
      "metadata": {
        "id": "6QY1f7D697tf"
      }
    },
    {
      "cell_type": "code",
      "execution_count": null,
      "source": [],
      "outputs": [],
      "metadata": {
        "id": "WKWn9p9W9_2_"
      }
    },
    {
      "cell_type": "markdown",
      "source": [
        "10) Ask how many people the user wants to invite to a party. If they enter a number below\n",
        "10, ask for the names and after each name display “[name] has been invited”. If they\n",
        "enter a number which is 10 or higher, display the message “Too many people”.\n",
        "\n"
      ],
      "metadata": {
        "id": "JdpMvvM0-ATa"
      }
    },
    {
      "cell_type": "code",
      "execution_count": null,
      "source": [],
      "outputs": [],
      "metadata": {
        "id": "YDWrUADo-ELr"
      }
    },
    {
      "cell_type": "markdown",
      "source": [
        "# Challenges (While Loop)"
      ],
      "metadata": {
        "id": "FkZtF17k_rE7"
      }
    },
    {
      "cell_type": "markdown",
      "source": [
        "1) Set the total to 0 to start with. While the total is 50 or less, ask\n",
        "the user to input a number. Add that number to the total and\n",
        "print the message “The total is… [total]”. Stop the loop when\n",
        "the total is over 50.\n"
      ],
      "metadata": {
        "id": "4_Z8Xk_D-EsJ"
      }
    },
    {
      "cell_type": "code",
      "execution_count": null,
      "source": [],
      "outputs": [],
      "metadata": {
        "id": "_IXYO-XU-i1u"
      }
    },
    {
      "cell_type": "markdown",
      "source": [
        "2) Ask the user to enter\n",
        "a number. Keep\n",
        "asking until they enter\n",
        "a value over 5 and\n",
        "then display the\n",
        "message “The last\n",
        "number you entered\n",
        "was a [number]” and\n",
        "stop the program.\n"
      ],
      "metadata": {
        "id": "1T2bpJXK-kpG"
      }
    },
    {
      "cell_type": "code",
      "execution_count": null,
      "source": [],
      "outputs": [],
      "metadata": {
        "id": "fjLJIZCS-p96"
      }
    },
    {
      "cell_type": "markdown",
      "source": [
        "3) Ask the user to enter a\n",
        "number and then enter\n",
        "another number. Add these\n",
        "two numbers together and\n",
        "then ask if they want to add\n",
        "another number. If they\n",
        "enter “y\", ask them to enter\n",
        "another number and keep\n",
        "adding numbers until they\n",
        "do not answer “y”. Once the\n",
        "loop has stopped, display\n",
        "the total.\n"
      ],
      "metadata": {
        "id": "kQ8yK58C-qhS"
      }
    },
    {
      "cell_type": "code",
      "execution_count": null,
      "source": [],
      "outputs": [],
      "metadata": {
        "id": "ATyYzF1K-tpq"
      }
    },
    {
      "cell_type": "markdown",
      "source": [
        "4) Ask for the name of somebody the user wants to invite\n",
        "to a party. After this, display the message “[name] has\n",
        "now been invited” and add 1 to the count. Then ask if\n",
        "they want to invite somebody else. Keep repeating this\n",
        "until they no longer want to invite anyone else to the\n",
        "party and then display how many people they have\n"
      ],
      "metadata": {
        "id": "GGJUiZZL-uHy"
      }
    },
    {
      "cell_type": "code",
      "execution_count": null,
      "source": [],
      "outputs": [],
      "metadata": {
        "id": "47FWBKbC-ydx"
      }
    },
    {
      "cell_type": "markdown",
      "source": [
        "5) coming to the party.\n",
        "Create a variable called\n",
        "compnum and set the value\n",
        "to 50. Ask the user to enter a\n",
        "number. While their guess\n",
        "is not the same as the\n",
        "compnum value, tell them if\n",
        "their guess is too low or too\n",
        "high and ask them to have\n",
        "another guess. If they enter\n",
        "the same value as\n",
        "compnum, display the\n",
        "message “Well done, you\n",
        "took [count] attempts”.\n"
      ],
      "metadata": {
        "id": "2sC_hXZy-y5z"
      }
    },
    {
      "cell_type": "code",
      "execution_count": null,
      "source": [],
      "outputs": [],
      "metadata": {
        "id": "h2VAZA8X-22F"
      }
    },
    {
      "cell_type": "markdown",
      "source": [
        "6) Ask the user to enter a number between\n",
        "10 and 20. If they enter a value under 10,\n",
        "display the message “Too low” and ask\n",
        "them to try again. If they enter a value\n",
        "above 20, display the message “Too high”\n",
        "and ask them to try again. Keep repeating\n",
        "this until they enter a value that is\n",
        "between 10 and 20 and then display the\n",
        "message “Thank you”.\n"
      ],
      "metadata": {
        "id": "AsQK1PF2-3VF"
      }
    },
    {
      "cell_type": "code",
      "execution_count": null,
      "source": [],
      "outputs": [],
      "metadata": {
        "id": "cN5WJPrU-6_w"
      }
    },
    {
      "cell_type": "markdown",
      "source": [
        "7) Using the song “10 green bottles”, display the lines “There are [num] green bottles\n",
        "hanging on the wall, [num] green bottles hanging on the wall, and if 1 green bottle\n",
        "should accidentally fall”. Then ask the question “how many green bottles will be\n",
        "hanging on the wall?” If the user answers correctly, display the message “There will be\n",
        "[num] green bottles hanging on the wall”. If they answer incorrectly, display the\n",
        "message “No, try again” until they get it right. When the number of green bottles gets\n",
        "down to 0, display the message “There are no more green bottles hanging on the wall”.\n",
        "\n"
      ],
      "metadata": {
        "id": "XS0IPCZ--7YH"
      }
    },
    {
      "cell_type": "code",
      "execution_count": null,
      "source": [],
      "outputs": [],
      "metadata": {
        "id": "w-jBklvl--dx"
      }
    },
    {
      "cell_type": "markdown",
      "source": [
        "# Random() Class Challenges"
      ],
      "metadata": {
        "id": "YLZWQU8E_0Mk"
      }
    },
    {
      "cell_type": "markdown",
      "source": [
        "1) Display a\n",
        "random\n",
        "integer\n",
        "between\n",
        "1 and 100\n",
        "inclusive.\n"
      ],
      "metadata": {
        "id": "Z3Cu9zoK_53b"
      }
    },
    {
      "cell_type": "code",
      "execution_count": null,
      "source": [],
      "outputs": [],
      "metadata": {
        "id": "Gl0lw3i6ADdS"
      }
    },
    {
      "cell_type": "markdown",
      "source": [
        "2) Display a\n",
        "random\n",
        "fruit from\n",
        "a list of\n",
        "five fruits.\n"
      ],
      "metadata": {
        "id": "NcGJEVyXAD7l"
      }
    },
    {
      "cell_type": "code",
      "execution_count": null,
      "source": [],
      "outputs": [],
      "metadata": {
        "id": "ZDg57leAAHjW"
      }
    },
    {
      "cell_type": "markdown",
      "source": [
        "3) Randomly choose either heads or tails (“h” or “t”). Ask\n",
        "the user to make their choice. If their choice is the same\n",
        "as the randomly selected value, display the message\n",
        "“You win”, otherwise display “Bad luck”. At the end, tell\n",
        "the user if the computer selected heads or tails.\n"
      ],
      "metadata": {
        "id": "tMRz2mNAAIBm"
      }
    },
    {
      "cell_type": "code",
      "execution_count": null,
      "source": [],
      "outputs": [],
      "metadata": {
        "id": "D7iEt6_JALZS"
      }
    },
    {
      "cell_type": "markdown",
      "source": [
        "4) Randomly choose a number between 1 and 5. Ask the user to pick a\n",
        "number. If they guess correctly, display the message “Well done”,\n",
        "otherwise tell them if they are too high or too low and ask them to pick a\n",
        "second number. If they guess correctly on their second guess, display\n",
        "“Correct”, otherwise display “You lose”.\n"
      ],
      "metadata": {
        "id": "-AYlG23uAL8Y"
      }
    },
    {
      "cell_type": "code",
      "execution_count": null,
      "source": [],
      "outputs": [],
      "metadata": {
        "id": "pbxaLnFNARdf"
      }
    },
    {
      "cell_type": "markdown",
      "source": [
        "5) Randomly pick a whole number between 1\n",
        "and 10. Ask the user to enter a number and\n",
        "keep entering numbers until they enter the\n",
        "number that was randomly picked.\n"
      ],
      "metadata": {
        "id": "yYjClNkXASU7"
      }
    },
    {
      "cell_type": "code",
      "execution_count": null,
      "source": [],
      "outputs": [],
      "metadata": {
        "id": "F1n7lrbdAV-q"
      }
    },
    {
      "cell_type": "markdown",
      "source": [
        "6) SKIP\n"
      ],
      "metadata": {
        "id": "7kPIuNKaAWSs"
      }
    },
    {
      "cell_type": "code",
      "execution_count": null,
      "source": [],
      "outputs": [],
      "metadata": {
        "id": "c0_SeYVtAZ0U"
      }
    },
    {
      "cell_type": "markdown",
      "source": [
        "7) Make a maths quiz that asks five questions by randomly\n",
        "generating two whole numbers to make the question\n",
        "(e.g. [num1] + [num2]). Ask the user to enter the\n",
        "answer. If they get it right add a point to their score. At\n",
        "the end of the quiz, tell them how many they got correct\n",
        "out of five.\n"
      ],
      "metadata": {
        "id": "Y0prM0cNAaU4"
      }
    },
    {
      "cell_type": "code",
      "execution_count": null,
      "source": [],
      "outputs": [],
      "metadata": {
        "id": "I9kaZ2fjAd0M"
      }
    },
    {
      "cell_type": "markdown",
      "source": [
        "8) Display five colours and ask the user to pick one. If they\n",
        "pick the same as the program has chosen, say “Well\n",
        "done”, otherwise display a witty answer which involves\n",
        "the correct colour, e.g. “I bet you are GREEN with envy”\n",
        "or “You are probably feeling BLUE right now”. Ask\n",
        "them to guess again; if they have still not got it right,\n",
        "keep giving them the same clue and ask the user to\n",
        "enter a colour until they guess it correctly.\n",
        "\n"
      ],
      "metadata": {
        "id": "OU3DrSglAeTl"
      }
    },
    {
      "cell_type": "code",
      "execution_count": null,
      "source": [],
      "outputs": [],
      "metadata": {
        "id": "G9JchcqRAhp1"
      }
    },
    {
      "cell_type": "markdown",
      "source": [],
      "metadata": {
        "id": "G5Ro4NAhAiBg"
      }
    },
    {
      "cell_type": "markdown",
      "source": [
        "# Tuples, Lists & Dictionaries\n"
      ],
      "metadata": {
        "id": "gAWu6fNLAuLr"
      }
    },
    {
      "cell_type": "markdown",
      "source": [
        "1)\n",
        "Create a tuple containing the names of five countries and display the whole tuple. Ask\n",
        "the user to enter one of the countries that have been shown to them and then display\n",
        "the index number (i.e. position in the list) of that item in the tuple.\n"
      ],
      "metadata": {
        "id": "6HxNu5zAAzrY"
      }
    },
    {
      "cell_type": "code",
      "execution_count": 2,
      "source": [
        "country = (\"USA\", \"Guyana\", \"Canada\", \"Mexico\", \"Haiti\")\r\n",
        "print(country)\r\n",
        "user_answer = str(input(\"Please enter one of the countries that have been shown\"))\r\n",
        "print(f\"{user_answer} is located at index {country.index(user_answer)}\")"
      ],
      "outputs": [
        {
          "output_type": "stream",
          "name": "stdout",
          "text": [
            "('USA', 'Guyana', 'Canada', 'Mexico', 'Haiti')\n",
            "Guyana is located at index 1\n"
          ]
        }
      ],
      "metadata": {
        "id": "_2xaZUYHA4Dq"
      }
    },
    {
      "cell_type": "markdown",
      "source": [
        "\n",
        "2) SKIP\n",
        "\n",
        "```\n",
        "\n"
      ],
      "metadata": {
        "id": "zrAYEk7wA4c8"
      }
    },
    {
      "cell_type": "code",
      "execution_count": null,
      "source": [],
      "outputs": [],
      "metadata": {
        "id": "V4oL_WyTA_MJ"
      }
    },
    {
      "cell_type": "markdown",
      "source": [
        "3) \n",
        "Create a list of two sports. Ask the\n",
        "user what their favourite sport is and\n",
        "add this to the end of the list. Sort the\n",
        "list and display it.\n"
      ],
      "metadata": {
        "id": "lJka03I7A_qg"
      }
    },
    {
      "cell_type": "code",
      "execution_count": 7,
      "source": [
        "sport_1 = [\"Basketball\", \"Football\"]\r\n",
        "user_answer = input(\"What is your favorite sport?\")\r\n",
        "sport_1.append(user_answer)\r\n",
        "print(sport_1)"
      ],
      "outputs": [
        {
          "output_type": "stream",
          "name": "stdout",
          "text": [
            "['Basketball', 'Football', 'Tennis']\n"
          ]
        }
      ],
      "metadata": {
        "id": "PwjAsTbWBFBH"
      }
    },
    {
      "cell_type": "markdown",
      "source": [
        "4) \n",
        "Create a list of six school subjects. Ask the user which of these\n",
        "subjects they don’t like. Delete the subject they have chosen from the\n",
        "list before you display the list again.\n"
      ],
      "metadata": {
        "id": "MoIECi3NBFdA"
      }
    },
    {
      "cell_type": "code",
      "execution_count": 9,
      "source": [
        "school_subjects = [\"Math\", \"English\", \"Science\", \"History\", \"Gym\", \"Music\"]\r\n",
        "print(school_subjects)\r\n",
        "user_answer = input(\"Which of the following subjects is your least favorite?\")\r\n",
        "school_subjects.remove(user_answer)\r\n",
        "print(school_subjects)"
      ],
      "outputs": [
        {
          "output_type": "stream",
          "name": "stdout",
          "text": [
            "['Math', 'English', 'Science', 'History', 'Gym', 'Music']\n",
            "['Math', 'Science', 'History', 'Gym', 'Music']\n"
          ]
        }
      ],
      "metadata": {
        "id": "X-DRXKfDBKX-"
      }
    },
    {
      "cell_type": "markdown",
      "source": [
        "5)\n",
        "Ask the user to\n",
        "enter four of their\n",
        "favourite foods\n",
        "and store them in\n",
        "a dictionary so\n",
        "that they are\n",
        "indexed with\n",
        "numbers starting\n",
        "from 1. Display\n",
        "the dictionary in\n",
        "full, showing the\n",
        "index number\n",
        "and the item. Ask\n",
        "them which they\n",
        "want to get rid of\n",
        "and remove it\n",
        "from the list. Sort\n",
        "the remaining\n",
        "data and display\n",
        "the dictionary.\n"
      ],
      "metadata": {
        "id": "Ta_llW_tBK1n"
      }
    },
    {
      "cell_type": "code",
      "execution_count": null,
      "source": [
        "user_answer = input(\"Which of the following subjects is your least favorite?\")"
      ],
      "outputs": [],
      "metadata": {
        "id": "TqjlPT_ABOXL"
      }
    },
    {
      "cell_type": "markdown",
      "source": [
        "6)\n",
        "Enter a list of ten colours.\n",
        "Ask the user for a starting\n",
        "number between 0 and 4\n",
        "and an end number\n",
        "between 5 and 9. Display\n",
        "the list for those colours\n",
        "between the start and end\n",
        "numbers the user input.\n"
      ],
      "metadata": {
        "id": "oe3GOy-iBOvH"
      }
    },
    {
      "cell_type": "code",
      "execution_count": 10,
      "source": [
        "colors = [\"red\", \"orange\", \"yellow\", \"green\", \"blue\", \"violet\", \"brown\", \"black\", \"gray\", \"white\"]\r\n",
        "print(colors)\r\n",
        "user_start_number = int(input(\"Please enter a starting number between 0 and 4\"))\r\n",
        "user_end_number = int(input(\"Please enter a endi number between 5 and 9\"))\r\n",
        "colors[user_start_number:user_end_number]"
      ],
      "outputs": [
        {
          "output_type": "stream",
          "name": "stdout",
          "text": [
            "['red', 'orange', 'yellow', 'green', 'blue', 'violet', 'brown', 'black', 'gray', 'white']\n"
          ]
        },
        {
          "output_type": "execute_result",
          "data": {
            "text/plain": [
              "['yellow', 'green', 'blue', 'violet', 'brown', 'black']"
            ]
          },
          "metadata": {},
          "execution_count": 10
        }
      ],
      "metadata": {
        "id": "Fp_1wRvhBU5x"
      }
    },
    {
      "cell_type": "markdown",
      "source": [
        "7)\n",
        "Create a list of four three-digit\n",
        "numbers. Display the list to the\n",
        "user, showing each item from\n",
        "the list on a separate line. Ask\n",
        "the user to enter a three-digit\n",
        "number. If the number they\n",
        "have typed in matches one in\n",
        "the list, display the position of\n",
        "that number in the list,\n",
        "otherwise display the message\n",
        "“That is not in the list”.\n"
      ],
      "metadata": {
        "id": "1QfclrtQBVlV"
      }
    },
    {
      "cell_type": "code",
      "execution_count": 11,
      "source": [
        "numbers = [718, 305, 101, 199]\r\n",
        "\r\n",
        "for num in numbers:\r\n",
        "    print(num)"
      ],
      "outputs": [
        {
          "output_type": "stream",
          "name": "stdout",
          "text": [
            "718\n",
            "305\n",
            "101\n",
            "199\n"
          ]
        }
      ],
      "metadata": {
        "id": "1hsIM5N2BZX8"
      }
    },
    {
      "cell_type": "markdown",
      "source": [
        "8) Ask the user to enter the names of three people they want to\r\n",
        "invite to a party and store them in a list. After they have entered\r\n",
        "all three names, ask them if they want to add another. If they do,\r\n",
        "allow them to add more names until they answer “no”. When\r\n",
        "they answer “no”, display how many people they have invited to\r\n",
        "the party.\r\n"
      ],
      "metadata": {
        "id": "SLQAgeFUBZ5H"
      }
    },
    {
      "cell_type": "code",
      "execution_count": 16,
      "source": [
        "invited = []\r\n",
        "invited_people_1 = input(\"Please enter the first person you want to invite to the party\")\r\n",
        "invited_people_2 = input(\"Please enter the second person you want to invite to the party\")\r\n",
        "invited_people_3 = input(\"Please enter the third person you want to invite to the party\")\r\n",
        "invited.append(invited_people_1)\r\n",
        "invited.append(invited_people_2)\r\n",
        "invited.append(invited_people_3)\r\n",
        "print(invited)"
      ],
      "outputs": [
        {
          "output_type": "stream",
          "name": "stdout",
          "text": [
            "['Ricardo', 'Dan', 'Sai']\n"
          ]
        }
      ],
      "metadata": {
        "id": "VlK4enhCBhnD"
      }
    },
    {
      "cell_type": "markdown",
      "source": [
        "SKIP\n"
      ],
      "metadata": {
        "id": "w02Cq-QcBsJc"
      }
    },
    {
      "cell_type": "code",
      "execution_count": null,
      "source": [],
      "outputs": [],
      "metadata": {
        "id": "bSN_SCrTB1JA"
      }
    },
    {
      "cell_type": "markdown",
      "source": [
        "10)\n",
        "Create a list containing the titles of\n",
        "four TV programmes and display\n",
        "them on separate lines. Ask the\n",
        "user to enter another show and a\n",
        "position they want it inserted into\n",
        "the list. Display the list again,\n",
        "showing all five TV programmes in\n",
        "their new positions.\n"
      ],
      "metadata": {
        "id": "D651LmDWB1qu"
      }
    },
    {
      "cell_type": "code",
      "execution_count": 22,
      "source": [
        "tv_program = [\"CBS\", \"FOX\", \"Cartoon Network\", \"Discovery Channel\"]\r\n",
        "\r\n",
        "for show in tv_program:\r\n",
        "    print(show)\r\n",
        "\r\n",
        "new_tv_program = input(\"Please enter the another TV show: \")\r\n",
        "new_tv_program_position = int(input(\"Please enter the position you want to insert this show into the list: \"))\r\n",
        "\r\n",
        "tv_program.insert(new_tv_program_position, new_tv_program)\r\n",
        "print(tv_program)"
      ],
      "outputs": [
        {
          "output_type": "stream",
          "name": "stdout",
          "text": [
            "CBS\n",
            "FOX\n",
            "Cartoon Network\n",
            "Discovery Channel\n",
            "['CBS', 'Nick', 'FOX', 'Cartoon Network', 'Discovery Channel']\n"
          ]
        }
      ],
      "metadata": {
        "id": "2N17lIvjB5K9"
      }
    },
    {
      "cell_type": "markdown",
      "source": [
        "11) Create an empty list called “nums”.\n",
        "Ask the user to enter numbers.\n",
        "After each number is entered, add\n",
        "it to the end of the nums list and\n",
        "display the list. Once they have\n",
        "entered three numbers, ask them if\n",
        "they still want the last number they\n",
        "entered saved. If they say “no”,\n",
        "remove the last item from the list.\n",
        "Display the list of numbers."
      ],
      "metadata": {
        "id": "Glov1eV6B5mu"
      }
    },
    {
      "cell_type": "code",
      "execution_count": null,
      "source": [],
      "outputs": [],
      "metadata": {
        "id": "Yk6X4gu7CO0x"
      }
    },
    {
      "cell_type": "markdown",
      "source": [
        "# More string manipulation Challenges "
      ],
      "metadata": {
        "id": "jD8iLanKCPzS"
      }
    },
    {
      "cell_type": "markdown",
      "source": [
        "1) \n",
        "Ask the user to enter their\n",
        "first name and then display\n",
        "the length of their first name.\n",
        "Then ask for their surname\n",
        "and display the length of\n",
        "their surname. Join their first\n",
        "name and surname together\n",
        "with a space between and\n",
        "display the result. Finally,\n",
        "display the length of their full\n",
        "name (including the space).\n"
      ],
      "metadata": {
        "id": "OZvo1ATLCcdT"
      }
    },
    {
      "cell_type": "code",
      "execution_count": null,
      "source": [
        "first_name = input(\"Please enter your first name: \")\r\n",
        "print(f\"{len(first_name)} letters long\")\r\n",
        "last_name = input(\"Please enter your last name: \")\r\n",
        "print(f\"{len(last_name)} letters long\")\r\n",
        "print(f\"{first_name} {last_name}, {len(first_name + last_name)} letters long.\")"
      ],
      "outputs": [],
      "metadata": {
        "id": "NL-C5LlYChqs"
      }
    },
    {
      "cell_type": "markdown",
      "source": [
        "2)\n",
        "Ask the user to type in their favourite school subject.\n",
        "Display it with “-” after each letter, e.g. S-p-a-n-i-s-h-.\n"
      ],
      "metadata": {
        "id": "jA1d3DeMCiN8"
      }
    },
    {
      "cell_type": "code",
      "execution_count": null,
      "source": [
        "user_subject = input(\"Please enter your favorite school subject: \")\r\n",
        "\r\n",
        "\r\n",
        "def subject():\r\n",
        "    string_input = \"\"\r\n",
        "    for i in user_subject:\r\n",
        "        string_input += i + \"-\"\r\n",
        "        # string_input += f\"{i}-\"\r\n",
        "    return string_input\r\n",
        "\r\n",
        "\r\n",
        "print(subject())"
      ],
      "outputs": [],
      "metadata": {
        "id": "MmTpSJmNCnDr"
      }
    },
    {
      "cell_type": "markdown",
      "source": [
        "3)\n",
        "Show the user a line of text from your favourite poem\n",
        "and ask for a starting and ending point. Display the\n",
        "characters between those two points.\n"
      ],
      "metadata": {
        "id": "fT-bL9kGDB7M"
      }
    },
    {
      "cell_type": "code",
      "execution_count": null,
      "source": [
        "print('\"I was born to make mistakes, not to fake perfection.\"')\r\n",
        "user_word_start = input(\"Please enter a word to start from: \")\r\n",
        "user_word_end = input(\"Please enter a word to start from: \")"
      ],
      "outputs": [],
      "metadata": {
        "id": "Tf07D-eZDERv"
      }
    },
    {
      "cell_type": "markdown",
      "source": [
        "4)\n",
        "Ask the user to type in a word in upper case. If they\n",
        "type it in lower case, ask them to try again. Keep\n",
        "repeating this until they type in a message all in\n",
        "uppercase. "
      ],
      "metadata": {
        "id": "CMwH8ro7CndV"
      }
    },
    {
      "cell_type": "code",
      "execution_count": null,
      "source": [
        "user_word = input(\"Please enter a word in uppercase: \")\r\n",
        "\r\n",
        "while user_word != user_word.upper():\r\n",
        "    user_word = input(\"Please enter try again: \")\r\n",
        "print(\"Great, its all uppercase\")"
      ],
      "outputs": [],
      "metadata": {
        "id": "bd2wn4sFC0OY"
      }
    },
    {
      "cell_type": "markdown",
      "source": [
        "5)\n",
        "Ask the user to type in their\n",
        "postcode. Display the first\n",
        "two letters in uppercase. \n"
      ],
      "metadata": {
        "id": "SecjLANJDII1"
      }
    },
    {
      "cell_type": "code",
      "execution_count": null,
      "source": [
        "user_word = input(\"Please enter your city: \")\r\n",
        "\r\n",
        "converted = (\r\n",
        "    user_word[0:2].upper() + user_word[2:]\r\n",
        ")  # So this gets the characters from positon 0 to 2 and then uppercases it and spits out the rest of the words.\r\n",
        "print(converted)"
      ],
      "outputs": [],
      "metadata": {
        "id": "lZ4Vw8XaDVb2"
      }
    },
    {
      "cell_type": "markdown",
      "source": [
        "6)\r\n",
        "Ask the user to type in their name\r\n",
        "and then tell them how many vowels are in their names\r\n"
      ],
      "metadata": {
        "id": "gakWRmhcC0zQ"
      }
    },
    {
      "cell_type": "code",
      "execution_count": 9,
      "source": [
        "user_name = input(\"Please enter your name: \").lower()\r\n",
        "\r\n",
        "a_amount = user_name.count(\"a\")\r\n",
        "e_amount = user_name.count(\"e\")\r\n",
        "i_amount = user_name.count(\"i\")\r\n",
        "o_amount = user_name.count(\"o\")\r\n",
        "u_amount = user_name.count(\"u\")\r\n",
        "total = a_amount + e_amount + i_amount + o_amount + u_amount\r\n",
        "print(f\"You have {total} vowels in your name\")"
      ],
      "outputs": [
        {
          "output_type": "stream",
          "name": "stdout",
          "text": [
            "You have 2 vowels in your name\n"
          ]
        }
      ],
      "metadata": {
        "id": "BdOc17c4CrD_"
      }
    },
    {
      "cell_type": "markdown",
      "source": [
        "7)\r\n",
        "Ask the user to enter a new password. Ask\r\n",
        "them to enter it again. If the two passwords\r\n",
        "match, display “Thank you”. If the letters are\r\n",
        "correct but in the wrong case, display the\r\n",
        "message “They must be in the same case”,\r\n",
        "otherwise display the message “Incorrect”.\r\n"
      ],
      "metadata": {
        "id": "iBbjFrF6Crf7"
      }
    },
    {
      "cell_type": "code",
      "execution_count": null,
      "source": [],
      "outputs": [],
      "metadata": {
        "id": "smQFm96FDZjT"
      }
    },
    {
      "cell_type": "markdown",
      "source": [
        "8) Ask the user to type in a word and then\r\n",
        "display it backwards on separate lines. For\r\n",
        "instance, if they type in “Hello” it should\r\n",
        "display as shown below:"
      ],
      "metadata": {}
    },
    {
      "cell_type": "code",
      "execution_count": 10,
      "source": [
        "user_word = input(\"Please type in a word: \")[::-1]\r\n",
        "\r\n",
        "for letter in user_word:\r\n",
        "    print(letter)"
      ],
      "outputs": [
        {
          "output_type": "stream",
          "name": "stdout",
          "text": [
            "o\n",
            "l\n",
            "l\n",
            "e\n",
            "H\n"
          ]
        }
      ],
      "metadata": {}
    },
    {
      "cell_type": "markdown",
      "source": [
        "9) Ask the user to type in a word and then\r\n",
        "display it backwards on separate lines. For\r\n",
        "instance, if they type in “Hello” it should\r\n",
        "display as shown below:\r\n",
        "Enter a word: Hello\r\n",
        "o\r\n",
        "l\r\n",
        "l\r\n",
        "e\r\n",
        "H\r\n",
        ">>> "
      ],
      "metadata": {
        "id": "DZ7nOmqdDctz"
      }
    },
    {
      "cell_type": "code",
      "execution_count": 6,
      "source": [
        "user_word = input(\"Please enter a word: \")[::-1]\r\n",
        "print(\" \".join(user_word))"
      ],
      "outputs": [
        {
          "output_type": "stream",
          "name": "stdout",
          "text": [
            "o l l e H\n"
          ]
        }
      ],
      "metadata": {
        "id": "Cqm1mXhKD6Ip"
      }
    },
    {
      "cell_type": "markdown",
      "source": [
        "Questions from \"Python By Example\""
      ],
      "metadata": {
        "id": "VelemPkwVu98"
      }
    }
  ]
}