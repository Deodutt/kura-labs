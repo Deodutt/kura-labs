{
  "nbformat": 4,
  "nbformat_minor": 0,
  "metadata": {
    "colab": {
      "name": "Day 4_OOP_Classes.ipynb",
      "provenance": []
    },
    "kernelspec": {
      "name": "python3",
      "display_name": "Python 3"
    },
    "language_info": {
      "name": "python"
    }
  },
  "cells": [
    {
      "cell_type": "markdown",
      "metadata": {
        "id": "RNfV3p12EGwf"
      },
      "source": [
        "# Python Classes"
      ]
    },
    {
      "cell_type": "code",
      "metadata": {
        "id": "VMUGCDX3Wduq"
      },
      "source": [
        ""
      ],
      "execution_count": null,
      "outputs": []
    },
    {
      "cell_type": "markdown",
      "metadata": {
        "id": "2jGTjcXEEIj2"
      },
      "source": [
        "Python is an object oriented programming language.\n",
        "\n",
        "Everything in Python is an object, with its properties and methods.\n",
        "\n",
        "A Class is like an object constructor, or a \"blueprint\" for creating objects."
      ]
    },
    {
      "cell_type": "markdown",
      "metadata": {
        "id": "8Y5OoT4iEQMp"
      },
      "source": [
        "Create a class\n",
        "To create a class, use the keyword class:\n",
        "Example: Create a class named MyClass, with a property named x:"
      ]
    },
    {
      "cell_type": "code",
      "metadata": {
        "id": "1EmykQhzEMNk"
      },
      "source": [
        "class MyClass:\n",
        "  x = 5"
      ],
      "execution_count": null,
      "outputs": []
    },
    {
      "cell_type": "markdown",
      "metadata": {
        "id": "kOipK8avEafW"
      },
      "source": [
        "**Create Object**"
      ]
    },
    {
      "cell_type": "markdown",
      "metadata": {
        "id": "jbmFY_leEe7Z"
      },
      "source": [
        "we can use the class named MyClass to create objects:\n",
        "Example\n",
        "Create an object named p1, and print the value of x:\n",
        "\n"
      ]
    },
    {
      "cell_type": "code",
      "metadata": {
        "id": "0sAb0TqkEmTS",
        "colab": {
          "base_uri": "https://localhost:8080/"
        },
        "outputId": "831d16c9-2fea-4de8-c18b-fc2908704f0a"
      },
      "source": [
        "p1 = MyClass()\n",
        "print(p1.x)\n",
        "\n",
        "type(p1)\n",
        "type(\"string\")"
      ],
      "execution_count": null,
      "outputs": [
        {
          "output_type": "stream",
          "text": [
            "5\n"
          ],
          "name": "stdout"
        },
        {
          "output_type": "execute_result",
          "data": {
            "text/plain": [
              "str"
            ]
          },
          "metadata": {
            "tags": []
          },
          "execution_count": 3
        }
      ]
    },
    {
      "cell_type": "markdown",
      "metadata": {
        "id": "vR7Sv8V_EpsZ"
      },
      "source": [
        "### The __init__() Function\n",
        "To understand the meaning of classes we have to understand the built-in __init__() function.\n",
        "\n",
        "All classes have a function called __init__(), which is always executed when the class is being initiated.\n",
        "\n",
        "Use the __init__() function to assign values to object properties, or other operations that are necessary to do when the object is being created:"
      ]
    },
    {
      "cell_type": "markdown",
      "metadata": {
        "id": "Cc8FN_MwFWU7"
      },
      "source": [
        "Example\n",
        "Create a class named Person, use the __init__() function to assign values for name and age:"
      ]
    },
    {
      "cell_type": "code",
      "metadata": {
        "id": "tId9vxLmFTBw",
        "colab": {
          "base_uri": "https://localhost:8080/"
        },
        "outputId": "a41ab25a-1287-41a7-cb8e-e07eea0adbb2"
      },
      "source": [
        "class Person:\n",
        "  def __init__(self, name, age):\n",
        "    self.name = name\n",
        "    self.age = age\n",
        "\n",
        "p1 = Person(\"John\", 36)\n",
        "#when this is ran,\n",
        "#self is referring to the object itself.\n",
        "# the function looks like its looking for 3 parameters\n",
        "\n",
        "# positional arguments. everything in the parameter.\n",
        "\n",
        "\n",
        "#When you initialize an object, self is passed in there.\n",
        "print(p1.name)\n",
        "print(p1.age)\n"
      ],
      "execution_count": null,
      "outputs": [
        {
          "output_type": "stream",
          "text": [
            "John\n",
            "36\n"
          ],
          "name": "stdout"
        }
      ]
    },
    {
      "cell_type": "markdown",
      "metadata": {
        "id": "Wd_hsSPVFbZO"
      },
      "source": [
        "Note: The __init__() function is called automatically every time the class is being used to create a new object. It is also called a constructor"
      ]
    },
    {
      "cell_type": "markdown",
      "metadata": {
        "id": "nmfv_AM2FfbO"
      },
      "source": [
        "## Object Methods\n",
        "\n",
        "Objects can also contain methods. Methods in objects are functions that belong to the object.\n",
        "\n",
        "Let us create a method in the Person class:"
      ]
    },
    {
      "cell_type": "markdown",
      "metadata": {
        "id": "bxYTaGKzF5fz"
      },
      "source": [
        "Example\n",
        "Insert a function that prints a greeting, and execute it on the p1 object:"
      ]
    },
    {
      "cell_type": "code",
      "metadata": {
        "id": "-oK5Ml8AF9aT"
      },
      "source": [
        "class Person:\n",
        "  def __init__(self, name, age):\n",
        "    self.name = name\n",
        "    self.age = age\n",
        "\n",
        "  def myfunc(self):\n",
        "    print(\"Hello my name is \" + self.name)\n",
        "\n",
        "p1 = Person(\"John\", 36)\n",
        "p1.myfunc()"
      ],
      "execution_count": null,
      "outputs": []
    },
    {
      "cell_type": "markdown",
      "metadata": {
        "id": "N6fE5CmTMVjx"
      },
      "source": [
        "### The self Parameter\n",
        "Current instance of the class used to access variables that belongs to the class."
      ]
    },
    {
      "cell_type": "code",
      "metadata": {
        "id": "0SMJbm1uMZ5W"
      },
      "source": [
        "class Person:\n",
        "  def __init__(mysillyobject, name, age):\n",
        "    mysillyobject.name = name\n",
        "    mysillyobject.age = age\n",
        "\n",
        "  def myfunc(abc):\n",
        "    print(\"Hello my name is \" + abc.name)\n",
        "\n",
        "p1 = Person(\"John\", 36)\n",
        "p1.myfunc()"
      ],
      "execution_count": null,
      "outputs": []
    },
    {
      "cell_type": "markdown",
      "metadata": {
        "id": "F82XTaYCMmce"
      },
      "source": [
        "### Delete Objects\n",
        "You can delete objects by using the del keyword:"
      ]
    },
    {
      "cell_type": "markdown",
      "metadata": {
        "id": "TG9ivWGDNvKR"
      },
      "source": [
        "Example\n",
        "Delete the p1 object: "
      ]
    },
    {
      "cell_type": "code",
      "metadata": {
        "id": "gZ5e5eusNtAy"
      },
      "source": [
        "del p1"
      ],
      "execution_count": null,
      "outputs": []
    },
    {
      "cell_type": "markdown",
      "metadata": {
        "id": "TEn5Jt17KbEv"
      },
      "source": [
        "Practice\n",
        "\n",
        "\n",
        "Lets create a rectangle class\n",
        "length, width variable, color, line thickness"
      ]
    },
    {
      "cell_type": "code",
      "metadata": {
        "colab": {
          "base_uri": "https://localhost:8080/",
          "height": 35
        },
        "id": "lklPr1ngKcVO",
        "outputId": "2416de6e-1fef-42c1-9e10-96bd2ce75f7a"
      },
      "source": [
        "class Rectangle:\n",
        "  def __init__(self, height, width):\n",
        "    self.height = height\n",
        "    self.width = width\n",
        "\n",
        "\n",
        "  def area(self):\n",
        "    return f\"The area is {(self.height * self.width)}\"\n",
        "\n",
        "  def perimeter(self):\n",
        "    return f\"The perimeter is {(self.height * 2) + (self.width * 2)}\"\n",
        "\n",
        "p1 = Rectangle(20, 50)\n",
        "\n",
        "p1.area()\n",
        "# p1.perimeter()"
      ],
      "execution_count": null,
      "outputs": [
        {
          "output_type": "execute_result",
          "data": {
            "application/vnd.google.colaboratory.intrinsic+json": {
              "type": "string"
            },
            "text/plain": [
              "'The area is 1000'"
            ]
          },
          "metadata": {
            "tags": []
          },
          "execution_count": 21
        }
      ]
    }
  ]
}