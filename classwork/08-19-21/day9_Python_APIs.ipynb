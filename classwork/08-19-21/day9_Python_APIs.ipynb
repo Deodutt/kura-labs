{
  "nbformat": 4,
  "nbformat_minor": 2,
  "metadata": {
    "colab": {
      "name": "day9_Python_APIs.ipynb",
      "provenance": [],
      "collapsed_sections": []
    },
    "kernelspec": {
      "name": "python3",
      "display_name": "Python 3.9.2 64-bit"
    },
    "language_info": {
      "name": "python",
      "version": "3.9.2",
      "mimetype": "text/x-python",
      "codemirror_mode": {
        "name": "ipython",
        "version": 3
      },
      "pygments_lexer": "ipython3",
      "nbconvert_exporter": "python",
      "file_extension": ".py"
    },
    "interpreter": {
      "hash": "a52f251b682d8835a3d48e5528dd8a9e5772f2df652d4d86638ea6503f91cfa6"
    }
  },
  "cells": [
    {
      "cell_type": "markdown",
      "source": [
        "\n",
        "\n",
        "<img src=\"https://i.imgur.com/X9R3e67.png\" style=\"float: left; margin: 20px; height: 55px\">\n",
        "\n",
        "#API's\n",
        "\n",
        "\n",
        "###Learning Objectives\n",
        "\n",
        "By the end of this class we should all be able to answer the following questions:\n",
        "\n",
        "1. What is an API?\n",
        "2. How do I consume one?\n",
        "3. How do I make one? (w/Flask if we have time)"
      ],
      "metadata": {
        "id": "eoTESRL2KBzW"
      }
    },
    {
      "cell_type": "markdown",
      "source": [
        "Let's get some facts about cats. Using the Cat Facts API. https://catfact.ninja/fact. \n",
        "\n",
        "- GET request (we need the base URL and route which is the specific directory to get the resource we want to use)\n",
        "\n",
        "- We get a response: JSON(javascript object notation)"
      ],
      "metadata": {
        "id": "HefOS1plowOA"
      }
    },
    {
      "cell_type": "code",
      "execution_count": null,
      "source": [
        "import requests\r\n",
        "\r\n",
        "BASE_URL = \"https://catfact.ninja/\"\r\n",
        "route = 'fact/'\r\n",
        "\r\n",
        "api_request = requests.get(BASE_URL + route)\r\n",
        "response = api_request.json()\r\n",
        "\r\n",
        "if api_request.status_code == 200:\r\n",
        "  # print(api_request.json())\r\n",
        "  # print(f\"Your fact is {api_request.json()['fact']}\")\r\n",
        "  # print(f\"Your fact is {response['fact']}\")\r\n",
        "  print(f\"Your fact is {response.get('fact') * 10}\")\r\n",
        "\r\n"
      ],
      "outputs": [
        {
          "output_type": "stream",
          "name": "stdout",
          "text": [
            "Your fact is Lions are the only cats that live in groups, called prides. Every female within the pride is usually related.Lions are the only cats that live in groups, called prides. Every female within the pride is usually related.Lions are the only cats that live in groups, called prides. Every female within the pride is usually related.Lions are the only cats that live in groups, called prides. Every female within the pride is usually related.Lions are the only cats that live in groups, called prides. Every female within the pride is usually related.Lions are the only cats that live in groups, called prides. Every female within the pride is usually related.Lions are the only cats that live in groups, called prides. Every female within the pride is usually related.Lions are the only cats that live in groups, called prides. Every female within the pride is usually related.Lions are the only cats that live in groups, called prides. Every female within the pride is usually related.Lions are the only cats that live in groups, called prides. Every female within the pride is usually related.\n"
          ]
        }
      ],
      "metadata": {
        "id": "xdFiJY_4onEZ",
        "colab": {
          "base_uri": "https://localhost:8080/"
        },
        "outputId": "b1417547-b20a-4075-a98c-9411014a40b4"
      }
    },
    {
      "cell_type": "markdown",
      "source": [
        "Print a list of cats"
      ],
      "metadata": {
        "id": "45qG3_y1pU6w"
      }
    },
    {
      "cell_type": "code",
      "execution_count": null,
      "source": [
        "import requests\r\n",
        "\r\n",
        "BASE_URL = \"https://catfact.ninja/\"\r\n",
        "route = 'fact/'\r\n",
        "\r\n",
        "api_request = requests.get(BASE_URL + route)\r\n",
        "# response = api_request.json()\r\n",
        "\r\n",
        "if api_request.status_code == 200:\r\n",
        "\r\n",
        "\r\n",
        "  for x in range(10):\r\n",
        "    api_request = requests.get(BASE_URL + route)\r\n",
        "    response = api_request.json()\r\n",
        "    print(f\"Your fact {x+1} is {response.get('fact')}\")\r\n",
        "\r\n"
      ],
      "outputs": [
        {
          "output_type": "stream",
          "name": "stdout",
          "text": [
            "Your fact 1 is The cheetah is the world's fastest land mammal. It can run at speeds of up to 70 miles an hour (113 kilometers an hour).\n",
            "Your fact 2 is Cat families usually play best in even numbers. Cats and kittens should be acquired in pairs whenever possible.\n",
            "Your fact 3 is There are more than 500 million domestic cats in the world, with approximately 40 recognized breeds.\n",
            "Your fact 4 is Unlike humans, cats do not need to blink their eyes on a regular basis to keep their eyes lubricated.\n",
            "Your fact 5 is A cat's jaw has only up and down motion; it does not have any lateral, side to side motion, like dogs and humans.\n",
            "Your fact 6 is Cats eat grass to aid their digestion and to help them get rid of any fur in their stomachs.\n",
            "Your fact 7 is The technical term for a cat’s hairball is a “bezoar.”\n",
            "Your fact 8 is When a cats rubs up against you, the cat is marking you with it's scent claiming ownership.\n",
            "Your fact 9 is Isaac Newton invented the cat flap. Newton was experimenting in a pitch-black room. Spithead, one of his cats, kept opening the door and wrecking his experiment. The cat flap kept both Newton and Spithead happy.\n",
            "Your fact 10 is According to Hebrew legend, Noah prayed to God for help protecting all the food he stored on the ark from being eaten by rats. In reply, God made the lion sneeze, and out popped a cat.\n"
          ]
        }
      ],
      "metadata": {
        "colab": {
          "base_uri": "https://localhost:8080/"
        },
        "id": "wz276ckTpWWQ",
        "outputId": "4dad343a-7685-44eb-ee33-3c08ab0fa5a4"
      }
    },
    {
      "cell_type": "markdown",
      "source": [
        "Print 10 facts with limits"
      ],
      "metadata": {
        "id": "qEFGbiXXCwwH"
      }
    },
    {
      "cell_type": "code",
      "execution_count": 6,
      "source": [
        "# using the query.\r\n",
        "import requests\r\n",
        "\r\n",
        "BASE_URL = \"https://catfact.ninja/\"\r\n",
        "route = \"facts/\"\r\n",
        "limit = \"?limit=10\"\r\n",
        "api_request = requests.get(BASE_URL + route + limit)\r\n",
        "response = api_request.json()\r\n",
        "\r\n",
        "if api_request.status_code == 200:\r\n",
        "    # print(response.get(\"data\"))\r\n",
        "    print(response.get(\"data\")[0].get(\"fact\"))\r\n",
        "\r\n",
        "    for x in range(len(response.get(\"data\"))):\r\n",
        "        print(f\"{x + 1}. {response.get('data')[x].get('fact')}\")"
      ],
      "outputs": [
        {
          "output_type": "stream",
          "name": "stdout",
          "text": [
            "The cat's footpads absorb the shocks of the landing when the cat jumps.\n",
            "1. The cat's footpads absorb the shocks of the landing when the cat jumps.\n",
            "2. A cat's hearing is much more sensitive than humans and dogs.\n",
            "3. Unlike other cats, lions have a tuft of hair at the end of their tails.\n",
            "4. Researchers believe the word “tabby” comes from Attabiyah, a neighborhood in Baghdad, Iraq. Tabbies got their name because their striped coats resembled the famous wavy patterns in the silk produced in this city.\n",
            "5. Cats can predict earthquakes. We humans are not 100% sure how they do it. There are several different theories.\n",
            "6. The average litter of kittens is between 2 - 6 kittens.\n",
            "7. The first cartoon cat was Felix the Cat in 1919. In 1940, Tom and Jerry starred in the first theatrical cartoon “Puss Gets the Boot.” In 1981 Andrew Lloyd Weber created the musical Cats, based on T.S. Eliot’s Old Possum’s Book of Practical Cats.\n",
            "8. A cat almost never meows at another cat, mostly just humans. Cats typically will spit, purr, and hiss at other cats.\n",
            "9. While many parts of Europe and North America consider the black cat a sign of bad luck, in Britain and Australia, black cats are considered lucky.\n",
            "10. A cat named Dusty, aged 1 7, living in Bonham, Texas, USA, gave birth to her 420th kitten on June 23, 1952.\n"
          ]
        }
      ],
      "metadata": {
        "colab": {
          "base_uri": "https://localhost:8080/"
        },
        "id": "TqLbTfzACyZM",
        "outputId": "09462220-e269-4eba-cae3-4a6559b7f293"
      }
    },
    {
      "cell_type": "markdown",
      "source": [
        "Let's get some weather data from https://api.openweathermap.org/data/2.5/weather? using our own input and present it to a user\n",
        "\n",
        "\n",
        "\n"
      ],
      "metadata": {
        "id": "I0Z0FxAuokfZ"
      }
    },
    {
      "cell_type": "code",
      "execution_count": 1,
      "source": [
        "import requests\r\n",
        "\r\n",
        "city_id = 5128581\r\n",
        "api_key = \"<insert ley>\"\r\n",
        "BASE_URL = \"https://api.openweathermap.org/\"\r\n",
        "route = f\"data/2.5/weather?id={city_id}&appid={api_key}\"\r\n",
        "\r\n",
        "\r\n",
        "api_request = requests.get(BASE_URL + route)\r\n",
        "response = api_request.json()\r\n",
        "\r\n",
        "if api_request.status_code == 200:\r\n",
        "    # print(api_request.json())\r\n",
        "    # print(f\"Your fact is {api_request.json()['fact']}\")\r\n",
        "    # print(f\"Your fact is {response['fact']}\")\r\n",
        "    print(f\"Your fact is {response}\")\r\n",
        "    weather = response.get(\"weather\")\r\n",
        "    exact_weather = weather[0]\r\n",
        "    print(exact_weather.get(\"main\"))\r\n",
        "\r\n",
        "    print(response.get(\"weather\")[0].get(\"main\"))\r\n"
      ],
      "outputs": [
        {
          "output_type": "stream",
          "name": "stdout",
          "text": [
            "Your fact is {'coord': {'lon': -74.006, 'lat': 40.7143}, 'weather': [{'id': 800, 'main': 'Clear', 'description': 'clear sky', 'icon': '01n'}], 'base': 'stations', 'main': {'temp': 296.94, 'feels_like': 297.52, 'temp_min': 294.79, 'temp_max': 298.34, 'pressure': 1012, 'humidity': 82}, 'visibility': 10000, 'wind': {'speed': 1.54, 'deg': 280}, 'clouds': {'all': 1}, 'dt': 1629517076, 'sys': {'type': 2, 'id': 2039034, 'country': 'US', 'sunrise': 1629454299, 'sunset': 1629503244}, 'timezone': -14400, 'id': 5128581, 'name': 'New York', 'cod': 200}\n",
            "Clear\n",
            "Clear\n"
          ]
        }
      ],
      "metadata": {
        "id": "ad8uQZbWe-Wz"
      }
    },
    {
      "cell_type": "markdown",
      "source": [
        "#Your turn!\n",
        "\n",
        "Find an API here and do something interesting with it: https://apipheny.io/free-api/"
      ],
      "metadata": {
        "id": "HBdBrtCyuvJh"
      }
    },
    {
      "cell_type": "code",
      "execution_count": 2,
      "source": [
        "import requests\r\n",
        "from PIL import Image\r\n",
        "\r\n",
        "BASE_URL = \"https://randomuser.me/\"\r\n",
        "route = \"api/\"\r\n",
        "\r\n",
        "\r\n",
        "api_request = requests.get(BASE_URL + route)\r\n",
        "response = api_request.json()\r\n",
        "\r\n",
        "if api_request.status_code == 200:\r\n",
        "\r\n",
        "    person = response.get(\"results\")[0]\r\n",
        "    # print(person)\r\n",
        "\r\n",
        "    print(\r\n",
        "        f\"{person.get('name').get('first')} {person.get('name').get('last')} is from {person.get('location').get('country')}\"\r\n",
        "    )\r\n",
        "    if person.get(\"gender\") == \"female\":\r\n",
        "        verb = \"she\"\r\n",
        "    else:\r\n",
        "        verb = \"he\"\r\n",
        "\r\n",
        "    print(f\"{verb.title()} is {person.get('dob').get('age')} years old.\")\r\n",
        "\r\n",
        "    # Printing the image of the random user\r\n",
        "    random_user_image = person.get(\"picture\").get(\"large\")\r\n",
        "Image.open(requests.get(random_user_image, stream=True).raw)\r\n"
      ],
      "outputs": [
        {
          "output_type": "stream",
          "name": "stdout",
          "text": [
            "Marlène Lopez is from Switzerland\n",
            "She is 31 years old.\n"
          ]
        },
        {
          "output_type": "execute_result",
          "data": {
            "text/plain": [
              "<PIL.JpegImagePlugin.JpegImageFile image mode=RGB size=128x128 at 0x1E3CFA19250>"
            ],
            "image/png": "[encoded data removed]"
          },
          "metadata": {},
          "execution_count": 2
        }
      ],
      "metadata": {
        "id": "PhvZ8I7Zut2_",
        "colab": {
          "base_uri": "https://localhost:8080/",
          "height": 196
        },
        "outputId": "0b5f2449-7607-47df-9844-d2984c2f7bd6"
      }
    }
  ]
}