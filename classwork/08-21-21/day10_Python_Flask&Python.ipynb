{
  "nbformat": 4,
  "nbformat_minor": 0,
  "metadata": {
    "colab": {
      "name": "day10_Python_Flask&Python",
      "provenance": [],
      "collapsed_sections": []
    },
    "kernelspec": {
      "name": "python3",
      "display_name": "Python 3"
    },
    "language_info": {
      "name": "python"
    }
  },
  "cells": [
    {
      "cell_type": "markdown",
      "metadata": {
        "id": "VGNbrUpVMgpY"
      },
      "source": [
        "# Python Flask"
      ]
    },
    {
      "cell_type": "markdown",
      "metadata": {
        "id": "kaYZB6gFMllQ"
      },
      "source": [
        "- Flask is a web framework that simplifies the development of web applications. \n",
        "- It has a small and extensible core\n",
        "- Written in Python by Armin Ronacher of open-source collective Pocco.\n",
        "- Based on the Werkzeg WSGI toolkit and the Jinja2 template engine (Pocco projects.)\n",
        "\n"
      ]
    },
    {
      "cell_type": "markdown",
      "metadata": {
        "id": "8Sazfhk6PZp2"
      },
      "source": [
        "**What is a Web Application Framework?**"
      ]
    },
    {
      "cell_type": "markdown",
      "metadata": {
        "id": "nmWzkhEtP6PU"
      },
      "source": [
        "\"A collection of libraries and modules that enable web application developers to write applications without worrying about low-level details such as protocol,and thread management\""
      ]
    },
    {
      "cell_type": "markdown",
      "metadata": {
        "id": "v-9tYW4IQwA_"
      },
      "source": [
        "#Elements of Flask"
      ]
    },
    {
      "cell_type": "markdown",
      "metadata": {
        "id": "iC0FVMkjQbEW"
      },
      "source": [
        "#WSGI (Web Server Gateway Interface)\n",
        "- WSGI is used as a standard for Python web application development\n",
        "- WSGI is the specification of a common interface between web servers and web applications.\n",
        "\n"
      ]
    },
    {
      "cell_type": "markdown",
      "metadata": {
        "id": "SjdbgS5YQeKs"
      },
      "source": [
        "#Werkzeug\n",
        "- Werkzeug is a WSGI toolkit that implements requests, response objects, and utility functions. \n",
        "- This enables a web frame to be built on it. The Flask framework uses Werkzeg as one of its bases.\n",
        "\n"
      ]
    },
    {
      "cell_type": "markdown",
      "metadata": {
        "id": "UxlK2rs3Qhsh"
      },
      "source": [
        "#jinja2\n",
        "- jinja2 is a popular template engine for Python.\n",
        "- A web template system combines a template with a specific data source to render a dynamic web page\n",
        "\n",
        "This allows you to pass Python variables into HTML templates like this:\n",
        "\n",
        "\n",
        "\n",
        "```\n",
        "<html>\n",
        "    <head>\n",
        "        <title>{{ title }}</title>\n",
        "    </head>\n",
        "    <body>\n",
        "        <h1>Hello {{ username }}</h1>\n",
        "    </body>\n",
        "</html>\n",
        "```\n",
        "\n"
      ]
    },
    {
      "cell_type": "markdown",
      "metadata": {
        "id": "B71UaTSxRciS"
      },
      "source": [
        "#Microframework\n",
        "- Flask is a microframework designed to keep the core of the application simple and scalable.\n",
        "\n",
        "- No built in abstraction for database support, Flask supports extensions to add functionality\n",
        "\n"
      ]
    },
    {
      "cell_type": "markdown",
      "metadata": {
        "id": "hag4Vw3uSAwX"
      },
      "source": [
        "#Why is Flask a good web framework choice?\n",
        "- Unlike the Django framework, Flask is very Pythonic  \n",
        "- Small learning curve\n",
        "- Very explicit, increases readability. Little code to get started\n",
        "\n",
        "This is a boilerplate code example.\n",
        "\n",
        "\n",
        "```\n",
        "from flask import Flask\n",
        "app = Flask(__name__)\n",
        "\n",
        "@app.route('/')\n",
        "def hello_world():\n",
        "    return 'Hello World!'\n",
        "\n",
        "if __name__ == '__main__':\n",
        "    app.run()\n",
        "```\n",
        "\n"
      ]
    }
  ]
}