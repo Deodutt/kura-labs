{
  "nbformat": 4,
  "nbformat_minor": 2,
  "metadata": {
    "colab": {
      "name": "Day4_Classes_Exercises_HW.ipynb",
      "provenance": [],
      "collapsed_sections": []
    },
    "kernelspec": {
      "name": "python3",
      "display_name": "Python 3.9.2 64-bit"
    },
    "language_info": {
      "name": "python",
      "version": "3.9.2",
      "mimetype": "text/x-python",
      "codemirror_mode": {
        "name": "ipython",
        "version": 3
      },
      "pygments_lexer": "ipython3",
      "nbconvert_exporter": "python",
      "file_extension": ".py"
    },
    "interpreter": {
      "hash": "a52f251b682d8835a3d48e5528dd8a9e5772f2df652d4d86638ea6503f91cfa6"
    }
  },
  "cells": [
    {
      "cell_type": "markdown",
      "source": [],
      "metadata": {
        "id": "4qUaQvz9uzuU"
      }
    },
    {
      "cell_type": "markdown",
      "source": [
        "1. Create a Circle class and intialize it with radius. Make two methods getArea and getCircumference inside this class."
      ],
      "metadata": {
        "id": "Vw_1I0Cmt737"
      }
    },
    {
      "cell_type": "code",
      "execution_count": 50,
      "source": [
        "import math\r\n",
        "\r\n",
        "class circle:\r\n",
        "  def __init__(self, radius):\r\n",
        "    self.radius = radius\r\n",
        "\r\n",
        "  def getArea(self):\r\n",
        "    return f\"The area is {(math.pi * self.radius * self.radius)}\"\r\n",
        "\r\n",
        "  def getCircumference(self):\r\n",
        "    return f\"The circumference is {(2 * math.pi * self.radius)}\"\r\n",
        "\r\n",
        "radius_number = int(input(\"Please enter the radius number: \"))\r\n",
        "p1 = circle(radius_number)\r\n",
        "# p1.getArea()\r\n",
        "p1.getCircumference()"
      ],
      "outputs": [
        {
          "output_type": "execute_result",
          "data": {
            "text/plain": [
              "'The circumference is 37.69911184307752'"
            ]
          },
          "metadata": {},
          "execution_count": 50
        }
      ],
      "metadata": {
        "id": "Z0I53oRTug3G"
      }
    },
    {
      "cell_type": "markdown",
      "source": [
        "2. Create a Temperature class. Make two methods :\n",
        "a. convertFahrenheit - It will take celsius and will print it into Fahrenheit.\n",
        "b. convertCelsius - It will take Fahrenheit and will convert it into Celsius."
      ],
      "metadata": {
        "id": "p4Nqi8_mt8C0"
      }
    },
    {
      "cell_type": "code",
      "execution_count": 51,
      "source": [
        "class Temperature:\r\n",
        "  def __init__(self, temp):\r\n",
        "    self.temp = temp\r\n",
        "\r\n",
        "  def convertFahrenheit(self):\r\n",
        "    return f\"{self.temp} celcius will convert to {float((self.temp * 1.8) + 32)} Fahrenheit\"\r\n",
        "\r\n",
        "  def convertCelsius(self):\r\n",
        "    return f\"{self.temp} Fahrenheit will convert to {(self.temp - 32) * (.5556)} Celsius\"\r\n",
        "\r\n",
        "input_temp = float(input(\"Please enter the current temperature to convert: \"))\r\n",
        "p1 = Temperature(input_temp)\r\n",
        "# p1.convertFahrenheit()\r\n",
        "p1.convertCelsius()"
      ],
      "outputs": [
        {
          "output_type": "execute_result",
          "data": {
            "text/plain": [
              "'20.0 Fahrenheit will convert to -6.667199999999999 Celsius'"
            ]
          },
          "metadata": {},
          "execution_count": 51
        }
      ],
      "metadata": {
        "id": "DlOy4145uxsc"
      }
    },
    {
      "cell_type": "markdown",
      "source": [
        "3. Create a Student class and initialize it with name and roll number. Make methods to :\n",
        "\n",
        "Display - It should display all informations of the student.\n",
        "setAge - It should assign age to student\n",
        "setMarks - It should assign marks to the student."
      ],
      "metadata": {
        "id": "TGHkRQdQt8K1"
      }
    },
    {
      "cell_type": "code",
      "execution_count": null,
      "source": [],
      "outputs": [],
      "metadata": {
        "id": "juv81e5ZuvZz"
      }
    },
    {
      "cell_type": "markdown",
      "source": [
        "4. Create a Time class and initialize it with hours and minutes.\n",
        "\n",
        "Make a method addTime which should take two time object and add them. E.g.- (2 hour and 50 min)+(1 hr and 20 min) is (4 hr and 10 min)\n",
        "Make a method displayTime which should print the time.\n",
        "Make a method DisplayMinute which should display the total minutes in the Time. E.g.- (1 hr 2 min) should display 62 minute."
      ],
      "metadata": {
        "id": "2HgbNzoxt81f"
      }
    },
    {
      "cell_type": "code",
      "execution_count": 52,
      "source": [
        "class Time:\r\n",
        "  def __init__(self, hours, minutes):\r\n",
        "    self.hours = hours\r\n",
        "    self.minutes = minutes\r\n",
        "\r\n",
        "  def addTime(self):\r\n",
        "    new_hours = int(input(\"Please enter another hour: \"))\r\n",
        "    new_minutes = int(input(\"Please enter another minute: \"))\r\n",
        "    total_hours_in_minutes = (new_hours + self.hours) * 60\r\n",
        "    total_minutes = (new_minutes + self.minutes) + total_hours_in_minutes\r\n",
        "    self.hours = int(total_minutes / 60 )\r\n",
        "    self.minutes = total_minutes % 60\r\n",
        "\r\n",
        "\r\n",
        "  def displayTime(self):\r\n",
        "    print(f\"{self.hours}hours and {self.minutes}minutes\")\r\n",
        "\r\n",
        "\r\n",
        "  def displayMinute(self):\r\n",
        "    return f\"The total minutes is {(self.hours * 60) + self.minutes}\"\r\n",
        "\r\n",
        "p1 = Time(2, 50)\r\n",
        "\r\n",
        "p1.addTime()\r\n",
        "p1.displayTime()\r\n",
        "p1.displayMinute()"
      ],
      "outputs": [
        {
          "output_type": "stream",
          "name": "stdout",
          "text": [
            "5hours and 20minutes\n"
          ]
        },
        {
          "output_type": "execute_result",
          "data": {
            "text/plain": [
              "'The total minutes is 320'"
            ]
          },
          "metadata": {},
          "execution_count": 52
        }
      ],
      "metadata": {
        "id": "9iJNoOlQum-u"
      }
    }
  ]
}